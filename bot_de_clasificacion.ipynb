{
  "nbformat": 4,
  "nbformat_minor": 0,
  "metadata": {
    "colab": {
      "provenance": [],
      "authorship_tag": "ABX9TyNE3sNMNg/JWRPNbtR+PFCm",
      "include_colab_link": true
    },
    "kernelspec": {
      "name": "python3",
      "display_name": "Python 3"
    },
    "language_info": {
      "name": "python"
    },
    "gpuClass": "standard",
    "accelerator": "GPU"
  },
  "cells": [
    {
      "cell_type": "markdown",
      "metadata": {
        "id": "view-in-github",
        "colab_type": "text"
      },
      "source": [
        "<a href=\"https://colab.research.google.com/github/delgadojoseph271/chat_bot/blob/develop/bot_de_clasificacion.ipynb\" target=\"_parent\"><img src=\"https://colab.research.google.com/assets/colab-badge.svg\" alt=\"Open In Colab\"/></a>"
      ]
    },
    {
      "cell_type": "code",
      "execution_count": 1,
      "metadata": {
        "id": "53cvI222oVwG"
      },
      "outputs": [],
      "source": [
        "#Crear las carpetas para subir las imagenes\n",
        "\n",
        "!mkdir coupe\n",
        "!mkdir deportivos\n",
        "!mkdir sedanes\n",
        "!mkdir camionetas\n",
        "!mkdir pickups\n"
      ]
    },
    {
      "cell_type": "code",
      "source": [
        "#Entrar en cada carpeta y descomprimir el archivo zip\n",
        "\n",
        "%cd coupe\n",
        "!unzip copues.zip\n",
        "%cd ..\n",
        " \n",
        "%cd deportivos\n",
        "!unzip deportivos.zip\n",
        "%cd ..\n",
        "\n",
        "%cd sedanes\n",
        "!unzip sedan.zip\n",
        "%cd ..\n",
        "\n",
        "%cd camionetas\n",
        "!unzip camioneta.zip\n",
        "%cd ..\n",
        "\n",
        "%cd pickups\n",
        "!unzip pickup.zip\n",
        "%cd ..\n",
        "\n",
        "\n"
      ],
      "metadata": {
        "colab": {
          "base_uri": "https://localhost:8080/"
        },
        "id": "irO-rMMMlkYL",
        "outputId": "67a47e52-274e-4017-f68b-dee276797e93"
      },
      "execution_count": 5,
      "outputs": [
        {
          "output_type": "stream",
          "name": "stdout",
          "text": [
            "/content/coupe\n",
            "Archive:  copues.zip\n",
            "  inflating: 1366_2000.jpeg          \n",
            "  inflating: 1366_20002.jpeg         \n",
            "  inflating: 14cb04e0-0150-4b6c-99e2-e333f7b78e4d.png  \n",
            "  inflating: 15922484720597.jpg      \n",
            "  inflating: 16502783822910.jpg      \n",
            "  inflating: 18041816-1625668484.jpeg  \n",
            "  inflating: 1920x1080-audi-rs-5-coupe-my2021-1513-oe.jpg  \n",
            "  inflating: 1-bmw-m4-competition-2021-rt-hero-front.jpeg  \n",
            "  inflating: 2016-Hyundai-Genesis-coupe-front-three-quarter.jpg  \n",
            "  inflating: 2018_Infiniti_Q60_Leonberg_IMG_0156.jpg  \n",
            "  inflating: 2020_mercedes-benz_c-class_coupe_amg-c-43_fq_oem_1_1600.jpg  \n",
            "  inflating: 2020-Honda-Civic-Si-Coupe.jpg  \n",
            "  inflating: 20211130-BMW-SERIE-2-COUPE-220I-EDICION-M-2022-COLOMBIA-PRECIO-CARACTERISTICAS-FICHA-TECNICA-01.jpg  \n",
            "  inflating: 20211130-BMW-SERIE-2-COUPE-220I-EDICION-M-2022-COLOMBIA-PRECIO-CARACTERISTICAS-FICHA-TECNICA-03.jpg  \n",
            "  inflating: 2022-BMW-M240i-Coupe-xDrive-First-Drive-Review-Featured-02-e1645807358862.jpg  \n",
            "  inflating: 2022-camaro-masthead.jpg  \n",
            "  inflating: 2022-C-COUPE-HERO-DR.jpg  \n",
            "  inflating: 2022-toyota-gr-86-102-1622508613.jpg  \n",
            "  inflating: 625243.jpg              \n",
            "  inflating: 6259b01964c033c3e00e6bba_BMW-M240i.jpeg  \n",
            "  inflating: 923ee1d4-2d45-4d6c-b966-df42317cb705_2022_GR86_DPL_DYNAMIC_0022B252812529.jpg  \n",
            "  inflating: a01f4672-b541-48a1-884b-5b98a9237e29_P90449407_highRes_bmw-m850i-xdrive-cou2B252812529.jpg  \n",
            "  inflating: A226556_full.jpg        \n",
            "  inflating: A226569_full.jpg        \n",
            "  inflating: Alpina-Supra.129-scaled-e1654870350859.jpg  \n",
            "  inflating: ALPINE_A110.jpg         \n",
            "  inflating: alpine_a110s-2.jpg      \n",
            "  inflating: asset.MQ6.12.20210702110103.jpeg  \n",
            "  inflating: ASTON_MARTIN_DB11_COUPE.jpg  \n",
            "  inflating: audi-rs5_coupe-2020-1280-08.jpeg  \n",
            "  inflating: audi-tt-coupe.jpg       \n",
            "  inflating: Best20coupes202022-3.jpg  \n",
            "  inflating: bmw-2-series-coupe-ag-onepager-model-brief-tech-data.jpg  \n",
            "  inflating: bmw-2-series-gran-coupe-mosaic-gallery-inspire-ag-desktop-03.jpg  \n",
            "  inflating: BMW-4-Series_Coupe_2014.jpg  \n",
            "  inflating: bmw-8-series-coupe-onepager-sp-desktop.jpg.asset.1660651530917.jpg  \n",
            "  inflating: BMW-M2.jpg              \n",
            "  inflating: bmw-m2-coupe-flyout-en.png.asset.1665414936043.png  \n",
            "  inflating: bmw-m8-coupe-onepager-sp-desktop.jpg.asset.1658234452853.jpg  \n",
            "  inflating: BMW-M8-GC-G-Power-2021-1-930x667.jpg  \n",
            "  inflating: bmw-serie-2-coupe-2022-2398819.jpg  \n",
            "  inflating: bmw-serie-2-coupe-2022-frontal-lateral.362309.jpg  \n",
            "  inflating: bmw-series-4-coupe-2020-side-front.jpg  \n",
            "  inflating: bmw-z3-coupe.jpg        \n",
            "  inflating: bmw-z3-m-coupe-ai-02.jpg.asset.1635778170118.jpg  \n",
            "  inflating: c2de1ad5-b419-4c51-8f10-639e954d3491_39008-E220dCoupe.jpg  \n",
            "  inflating: coches-coupe.jpg        \n",
            "  inflating: concept_xc_coupe_hero_2560x1096.jpg  \n",
            "  inflating: coupe.jpg               \n",
            "  inflating: coupe-fastback-notchback-sportback_1583513574.jpg  \n",
            "  inflating: coupes.jpg              \n",
            "  inflating: coupe-vs-sedan-1563297570.jpg  \n",
            "  inflating: evoindia2F2020-052F16122f7d-57cc-4106-a585-7762942a51c82FWeb_preset.jpg  \n",
            "  inflating: Fiat-Coupe-2022.jpg     \n",
            "  inflating: front-left-side-47.jpg  \n",
            "  inflating: gallery1.jpg            \n",
            "  inflating: huracan_coupe_over_rev_02_m.jpg  \n",
            "  inflating: hyundai-coupe-rd-1-1200x900.jpg  \n",
            "  inflating: image.jpeg              \n",
            "  inflating: image.MQ6.6.20220711202056.jpeg  \n",
            "  inflating: image.MQ6.8.20220711202009.jpeg  \n",
            "  inflating: image10.jpeg            \n",
            "  inflating: image11.jpeg            \n",
            "  inflating: image12.jpeg            \n",
            "  inflating: image13.jpeg            \n",
            "  inflating: image14.jpeg            \n",
            "  inflating: image15.jpeg            \n",
            "  inflating: image16.jpeg            \n",
            "  inflating: image17.jpeg            \n",
            "  inflating: image18.jpeg            \n",
            "  inflating: image19.jpeg            \n",
            "  inflating: image2.jpeg             \n",
            "  inflating: image20.jpeg            \n",
            "  inflating: image21.jpeg            \n",
            "  inflating: image22.jpeg            \n",
            "  inflating: image23.jpeg            \n",
            "  inflating: image24.jpeg            \n",
            "  inflating: image25.jpeg            \n",
            "  inflating: image26.jpeg            \n",
            "  inflating: image27.jpeg            \n",
            "  inflating: image28.jpeg            \n",
            "  inflating: image29.jpeg            \n",
            "  inflating: image3.jpeg             \n",
            "  inflating: image4.jpeg             \n",
            "  inflating: image5.jpeg             \n",
            "  inflating: image6.jpeg             \n",
            "  inflating: image7.jpeg             \n",
            "  inflating: image8.jpeg             \n",
            "  inflating: image9.jpeg             \n",
            "  inflating: images.jpg              \n",
            "  inflating: images10.jpg            \n",
            "  inflating: images100.jpg           \n",
            "  inflating: images101.jpg           \n",
            "  inflating: images102.jpg           \n",
            "  inflating: images103.jpg           \n",
            "  inflating: images104.jpg           \n",
            "  inflating: images105.jpg           \n",
            "  inflating: images106.jpg           \n",
            "  inflating: images107.jpg           \n",
            "  inflating: images108.jpg           \n",
            "  inflating: images109.jpg           \n",
            "  inflating: images11.jpg            \n",
            "  inflating: images110.jpg           \n",
            "  inflating: images111.jpg           \n",
            "  inflating: images112.jpg           \n",
            "  inflating: images114.jpg           \n",
            "  inflating: images115.jpg           \n",
            "  inflating: images116.jpg           \n",
            "  inflating: images117.jpg           \n",
            "  inflating: images118.jpg           \n",
            "  inflating: images119.jpg           \n",
            "  inflating: images12.jpg            \n",
            "  inflating: images120.jpg           \n",
            "  inflating: images121.jpg           \n",
            "  inflating: images122.jpg           \n",
            "  inflating: images123.jpg           \n",
            "  inflating: images124.jpg           \n",
            "  inflating: images125.jpg           \n",
            "  inflating: images126.jpg           \n",
            "  inflating: images127.jpg           \n",
            "  inflating: images129.jpg           \n",
            "  inflating: images13.jpg            \n",
            "  inflating: images130.jpg           \n",
            "  inflating: images131.jpg           \n",
            "  inflating: images132.jpg           \n",
            "  inflating: images133.jpg           \n",
            "  inflating: images134.jpg           \n",
            "  inflating: images135.jpg           \n",
            "  inflating: images136.jpg           \n",
            "  inflating: images137.jpg           \n",
            "  inflating: images138.jpg           \n",
            "  inflating: images139.jpg           \n",
            "  inflating: images14.jpg            \n",
            "  inflating: images140.jpg           \n",
            "  inflating: images142.jpg           \n",
            "  inflating: images143.jpg           \n",
            "  inflating: images144.jpg           \n",
            "  inflating: images145.jpg           \n",
            "  inflating: images146.jpg           \n",
            "  inflating: images147.jpg           \n",
            "  inflating: images148.jpg           \n",
            "  inflating: images149.jpg           \n",
            "  inflating: images15.jpg            \n",
            "  inflating: images150.jpg           \n",
            "  inflating: images151.jpg           \n",
            "  inflating: images152.jpg           \n",
            "  inflating: images153.jpg           \n",
            "  inflating: images154.jpg           \n",
            "  inflating: images155.jpg           \n",
            "  inflating: images156.jpg           \n",
            "  inflating: images157.jpg           \n",
            "  inflating: images158.jpg           \n",
            "  inflating: images159.jpg           \n",
            "  inflating: images16.jpg            \n",
            "  inflating: images160.jpg           \n",
            "  inflating: images161.jpg           \n",
            "  inflating: images162.jpg           \n",
            "  inflating: images163.jpg           \n",
            "  inflating: images164.jpg           \n",
            "  inflating: images165.jpg           \n",
            "  inflating: images166.jpg           \n",
            "  inflating: images167.jpg           \n",
            "  inflating: images168.jpg           \n",
            "  inflating: images169.jpg           \n",
            "  inflating: images17.jpg            \n",
            "  inflating: images170.jpg           \n",
            "  inflating: images171.jpg           \n",
            "  inflating: images172.jpg           \n",
            "  inflating: images174.jpg           \n",
            "  inflating: images175.jpg           \n",
            "  inflating: images176.jpg           \n",
            "  inflating: images177.jpg           \n",
            "  inflating: images178.jpg           \n",
            "  inflating: images179.jpg           \n",
            "  inflating: images18.jpg            \n",
            "  inflating: images180.jpg           \n",
            "  inflating: images181.jpg           \n",
            "  inflating: images182.jpg           \n",
            "  inflating: images184.jpg           \n",
            "  inflating: images185.jpg           \n",
            "  inflating: images186.jpg           \n",
            "  inflating: images187.jpg           \n",
            "  inflating: images188.jpg           \n",
            "  inflating: images189.jpg           \n",
            "  inflating: images19.jpg            \n",
            "  inflating: images190.jpg           \n",
            "  inflating: images191.jpg           \n",
            "  inflating: images192.jpg           \n",
            "  inflating: images193.jpg           \n",
            "  inflating: images194.jpg           \n",
            "  inflating: images195.jpg           \n",
            "  inflating: images196.jpg           \n",
            "  inflating: images197.jpg           \n",
            "  inflating: images198.jpg           \n",
            "  inflating: images199.jpg           \n",
            "  inflating: images2.jpg             \n",
            "  inflating: images20.jpg            \n",
            "  inflating: images200.jpg           \n",
            "  inflating: images201.jpg           \n",
            "  inflating: images202.jpg           \n",
            "  inflating: images203.jpg           \n",
            "  inflating: images204.jpg           \n",
            "  inflating: images205.jpg           \n",
            "  inflating: images206.jpg           \n",
            "  inflating: images207.jpg           \n",
            "  inflating: images209.jpg           \n",
            "  inflating: images21.jpg            \n",
            "  inflating: images210.jpg           \n",
            "  inflating: images211.jpg           \n",
            "  inflating: images214.jpg           \n",
            "  inflating: images215.jpg           \n",
            "  inflating: images216.jpg           \n",
            "  inflating: images217.jpg           \n",
            "  inflating: images218.jpg           \n",
            "  inflating: images219.jpg           \n",
            "  inflating: images22.jpg            \n",
            "  inflating: images220.jpg           \n",
            "  inflating: images221.jpg           \n",
            "  inflating: images222.jpg           \n",
            "  inflating: images223.jpg           \n",
            "  inflating: images225.jpg           \n",
            "  inflating: images226.jpg           \n",
            "  inflating: images227.jpg           \n",
            "  inflating: images228.jpg           \n",
            "  inflating: images229.jpg           \n",
            "  inflating: images23.jpg            \n",
            "  inflating: images230.jpg           \n",
            "  inflating: images231.jpg           \n",
            "  inflating: images232.jpg           \n",
            "  inflating: images233.jpg           \n",
            "  inflating: images234.jpg           \n",
            "  inflating: images235.jpg           \n",
            "  inflating: images237.jpg           \n",
            "  inflating: images239.jpg           \n",
            "  inflating: images24.jpg            \n",
            "  inflating: images240.jpg           \n",
            "  inflating: images241.jpg           \n",
            "  inflating: images242.jpg           \n",
            "  inflating: images243.jpg           \n",
            "  inflating: images244.jpg           \n",
            "  inflating: images245.jpg           \n",
            "  inflating: images246.jpg           \n",
            "  inflating: images247.jpg           \n",
            "  inflating: images248.jpg           \n",
            "  inflating: images249.jpg           \n",
            "  inflating: images250.jpg           \n",
            "  inflating: images251.jpg           \n",
            "  inflating: images252.jpg           \n",
            "  inflating: images253.jpg           \n",
            "  inflating: images254.jpg           \n",
            "  inflating: images256.jpg           \n",
            "  inflating: images258.jpg           \n",
            "  inflating: images259.jpg           \n",
            "  inflating: images26.jpg            \n",
            "  inflating: images260.jpg           \n",
            "  inflating: images261.jpg           \n",
            "  inflating: images262.jpg           \n",
            "  inflating: images263.jpg           \n",
            "  inflating: images265.jpg           \n",
            "  inflating: images266.jpg           \n",
            "  inflating: images267.jpg           \n",
            "  inflating: images268.jpg           \n",
            "  inflating: images269.jpg           \n",
            "  inflating: images27.jpg            \n",
            "  inflating: images270.jpg           \n",
            "  inflating: images271.jpg           \n",
            " extracting: images272.jpg           \n",
            "  inflating: images273.jpg           \n",
            "  inflating: images274.jpg           \n",
            "  inflating: images275.jpg           \n",
            "  inflating: images276.jpg           \n",
            "  inflating: images277.jpg           \n",
            "  inflating: images278.jpg           \n",
            "  inflating: images279.jpg           \n",
            "  inflating: images280.jpg           \n",
            "  inflating: images281.jpg           \n",
            "  inflating: images282.jpg           \n",
            "  inflating: images283.jpg           \n",
            "  inflating: images284.jpg           \n",
            "  inflating: images285.jpg           \n",
            "  inflating: images286.jpg           \n",
            "  inflating: images287.jpg           \n",
            "  inflating: images288.jpg           \n",
            "  inflating: images289.jpg           \n",
            "  inflating: images29.jpg            \n",
            "  inflating: images290.jpg           \n",
            "  inflating: images291.jpg           \n",
            "  inflating: images292.jpg           \n",
            "  inflating: images293.jpg           \n",
            "  inflating: images296.jpg           \n",
            "  inflating: images297.jpg           \n",
            "  inflating: images298.jpg           \n",
            "  inflating: images299.jpg           \n",
            "  inflating: images3.jpg             \n",
            "  inflating: images30.jpg            \n",
            "  inflating: images300.jpg           \n",
            "  inflating: images301.jpg           \n",
            "  inflating: images302.jpg           \n",
            "  inflating: images304.jpg           \n",
            "  inflating: images305.jpg           \n",
            "  inflating: images306.jpg           \n",
            "  inflating: images307.jpg           \n",
            "  inflating: images308.jpg           \n",
            "  inflating: images309.jpg           \n",
            "  inflating: images31.jpg            \n",
            "  inflating: images310.jpg           \n",
            "  inflating: images311.jpg           \n",
            "  inflating: images312.jpg           \n",
            "  inflating: images313.jpg           \n",
            "  inflating: images314.jpg           \n",
            "  inflating: images315.jpg           \n",
            "  inflating: images316.jpg           \n",
            "  inflating: images317.jpg           \n",
            "  inflating: images318.jpg           \n",
            "  inflating: images319.jpg           \n",
            "  inflating: images32.jpg            \n",
            "  inflating: images320.jpg           \n",
            "  inflating: images321.jpg           \n",
            "  inflating: images322.jpg           \n",
            "  inflating: images323.jpg           \n",
            "  inflating: images324.jpg           \n",
            "  inflating: images325.jpg           \n",
            "  inflating: images326.jpg           \n",
            "  inflating: images327.jpg           \n",
            "  inflating: images328.jpg           \n",
            "  inflating: images329.jpg           \n",
            "  inflating: images33.jpg            \n",
            "  inflating: images330.jpg           \n",
            "  inflating: images334.jpg           \n",
            "  inflating: images335.jpg           \n",
            "  inflating: images337.jpg           \n",
            "  inflating: images338.jpg           \n",
            "  inflating: images34.jpg            \n",
            "  inflating: images340.jpg           \n",
            "  inflating: images341.jpg           \n",
            "  inflating: images342.jpg           \n",
            "  inflating: images343.jpg           \n",
            "  inflating: images344.jpg           \n",
            "  inflating: images345.jpg           \n",
            "  inflating: images346.jpg           \n",
            "  inflating: images347.jpg           \n",
            "  inflating: images348.jpg           \n",
            "  inflating: images349.jpg           \n",
            "  inflating: images35.jpg            \n",
            "  inflating: images350.jpg           \n",
            "  inflating: images351.jpg           \n",
            "  inflating: images352.jpg           \n",
            "  inflating: images353.jpg           \n",
            "  inflating: images354.jpg           \n",
            "  inflating: images355.jpg           \n",
            "  inflating: images356.jpg           \n",
            "  inflating: images357.jpg           \n",
            "  inflating: images358.jpg           \n",
            "  inflating: images359.jpg           \n",
            "  inflating: images36.jpg            \n",
            "  inflating: images360.jpg           \n",
            "  inflating: images361.jpg           \n",
            "  inflating: images362.jpg           \n",
            "  inflating: images363.jpg           \n",
            "  inflating: images364.jpg           \n",
            "  inflating: images365.jpg           \n",
            "  inflating: images366.jpg           \n",
            "  inflating: images367.jpg           \n",
            "  inflating: images368.jpg           \n",
            "  inflating: images369.jpg           \n",
            "  inflating: images37.jpg            \n",
            "  inflating: images370.jpg           \n",
            "  inflating: images371.jpg           \n",
            "  inflating: images372.jpg           \n",
            "  inflating: images373.jpg           \n",
            "  inflating: images375.jpg           \n",
            "  inflating: images376.jpg           \n",
            "  inflating: images377.jpg           \n",
            "  inflating: images378.jpg           \n",
            "  inflating: images379.jpg           \n",
            "  inflating: images38.jpg            \n",
            "  inflating: images380.jpg           \n",
            "  inflating: images381.jpg           \n",
            "  inflating: images382.jpg           \n",
            "  inflating: images383.jpg           \n",
            "  inflating: images384.jpg           \n",
            "  inflating: images385.jpg           \n",
            "  inflating: images386.jpg           \n",
            "  inflating: images387.jpg           \n",
            "  inflating: images388.jpg           \n",
            "  inflating: images389.jpg           \n",
            "  inflating: images39.jpg            \n",
            "  inflating: images390.jpg           \n",
            "  inflating: images391.jpg           \n",
            "  inflating: images392.jpg           \n",
            "  inflating: images393.jpg           \n",
            "  inflating: images395.jpg           \n",
            "  inflating: images396.jpg           \n",
            "  inflating: images397.jpg           \n",
            "  inflating: images4.jpg             \n",
            "  inflating: images40.jpg            \n",
            "  inflating: images41.jpg            \n",
            "  inflating: images42.jpg            \n",
            "  inflating: images43.jpg            \n",
            "  inflating: images44.jpg            \n",
            "  inflating: images45.jpg            \n",
            "  inflating: images46.jpg            \n",
            "  inflating: images47.jpg            \n",
            "  inflating: images48.jpg            \n",
            "  inflating: images49.jpg            \n",
            "  inflating: images5.jpg             \n",
            "  inflating: images50.jpg            \n",
            "  inflating: images51.jpg            \n",
            "  inflating: images52.jpg            \n",
            "  inflating: images53.jpg            \n",
            "  inflating: images54.jpg            \n",
            "  inflating: images55.jpg            \n",
            "  inflating: images56.jpg            \n",
            "  inflating: images57.jpg            \n",
            "  inflating: images58.jpg            \n",
            "  inflating: images59.jpg            \n",
            "  inflating: images6.jpg             \n",
            "  inflating: images60.jpg            \n",
            "  inflating: images61.jpg            \n",
            "  inflating: images62.jpg            \n",
            "  inflating: images63.jpg            \n",
            "  inflating: images64.jpg            \n",
            "  inflating: images65.jpg            \n",
            "  inflating: images66.jpg            \n",
            "  inflating: images67.jpg            \n",
            "  inflating: images68.jpg            \n",
            "  inflating: images69.jpg            \n",
            "  inflating: images7.jpg             \n",
            "  inflating: images70.jpg            \n",
            "  inflating: images71.jpg            \n",
            "  inflating: images72.jpg            \n",
            "  inflating: images73.jpg            \n",
            "  inflating: images74.jpg            \n",
            "  inflating: images75.jpg            \n",
            "  inflating: images76.jpg            \n",
            "  inflating: images77.jpg            \n",
            "  inflating: images78.jpg            \n",
            "  inflating: images79.jpg            \n",
            "  inflating: images8.jpg             \n",
            "  inflating: images80.jpg            \n",
            "  inflating: images81.jpg            \n",
            "  inflating: images82.jpg            \n",
            "  inflating: images83.jpg            \n",
            "  inflating: images84.jpg            \n",
            "  inflating: images85.jpg            \n",
            "  inflating: images86.jpg            \n",
            "  inflating: images87.jpg            \n",
            "  inflating: images88.jpg            \n",
            "  inflating: images89.jpg            \n",
            "  inflating: images9.jpg             \n",
            "  inflating: images90.jpg            \n",
            "  inflating: images91.jpg            \n",
            "  inflating: images93.jpg            \n",
            "  inflating: images94.jpg            \n",
            "  inflating: images95.jpg            \n",
            "  inflating: images96.jpg            \n",
            "  inflating: images97.jpg            \n",
            "  inflating: images98.jpg            \n",
            "  inflating: images99.jpg            \n",
            "  inflating: IMG_29952.jpeg          \n",
            "  inflating: JDPA_202020Ford20Mustang20Yellow20Rear20View.jpg  \n",
            "  inflating: lanzamiento-lexus-lc-500-coupe.jpg  \n",
            "  inflating: Large-39020-E220dCoupe.jpg  \n",
            "  inflating: Large-39047-E220dCoupe.jpg  \n",
            "  inflating: lc-convertible_atl4-hero-coupe.jpg  \n",
            "  inflating: lexus-rc-coupe-car.jpg  \n",
            "  inflating: m8-competition-coupe-header.jpg  \n",
            "  inflating: maxresdefault.jpg       \n",
            "  inflating: medium.jpg              \n",
            "  inflating: mercedes-amg_e_53_2021_1.jpg  \n",
            "  inflating: MercedesBenz-CCoupe-Right-Front-Three-Quarter-152578.jpg  \n",
            "  inflating: mercedes-benz-c-klasse-coupe-xs.jpg  \n",
            "  inflating: mercedes-cle-coupe-2023-202179392-1625470955_2.jpg  \n",
            "  inflating: mercedes-glc-coupe-2019-24.jpg  \n",
            "  inflating: mercedes-glc-coupe-2023-segun-schulte.jpeg  \n",
            "  inflating: P90448604-bmw-m8-competition-coup-01-2022-599px.jpg  \n",
            "  inflating: prueba-bmw-serie-1-m-coupe-2791493.jpg  \n",
            "  inflating: que-es-coupe-2-6307a8c987d17.jpeg  \n",
            "  inflating: RT_V_344d8264d09d4e80a6b634b7438b1395.jpg  \n",
            "  inflating: RT_V_5e964148b0dd4e3d8aa8736dc2d22d94.jpg  \n",
            "  inflating: RT_V_faaa6ebd393e43ec836bb3c59facef27.jpg  \n",
            "  inflating: subaru-brz-toyota-gt86.jpg  \n",
            "  inflating: volkswagen-sirocco-coupe.jpg  \n",
            "  inflating: XXL-BODYSTYLELANDING-COUPE-ECLASS.jpg  \n",
            "/content\n"
          ]
        }
      ]
    },
    {
      "cell_type": "code",
      "source": [
        "#Borrar los archivo ZIP\n",
        "!rm -rf /content/deportivos/deportivos.zip\n",
        "!rm -rf /content/sedanes/sedan.zip\n",
        "!rm -rf /content/coupe/copues.zip.\n",
        "!rm -rf /content/camionetas/camionetas.zip\n",
        "!rm -rf /content/pickups/pickup.zip"
      ],
      "metadata": {
        "id": "DFBvaPN__5CJ"
      },
      "execution_count": 6,
      "outputs": []
    },
    {
      "cell_type": "code",
      "source": [
        "!rm -rf /content/deportivos/.ipynb_checkpoints\n",
        "!rm -rf /content/sedanes/.ipynb_checkpoints\n",
        "!rm -rf /content/coupe/.ipynb_checkpoints\n",
        "!rm -rf /content/camionetas/.ipynb_checkpoints\n",
        "!rm -rf /content/pickups/.ipynb_checkpoints"
      ],
      "metadata": {
        "id": "rLWoO8sQxuqK"
      },
      "execution_count": 15,
      "outputs": []
    },
    {
      "cell_type": "code",
      "source": [
        "#Mostrar cuantas imagenes tengo de cada categoria\n",
        "!ls /content/deportivos | wc -l #418\n",
        "!ls /content/sedanes/ | wc -l #449\n",
        "!ls /content/coupe | wc -l #484\n",
        "!ls /content/camionetas | wc -l #503\n",
        "!ls /content/pickups | wc -l #429"
      ],
      "metadata": {
        "colab": {
          "base_uri": "https://localhost:8080/"
        },
        "id": "9rGifq47A3gG",
        "outputId": "f1d569ad-3492-4f40-bc40-27f7c27e2888"
      },
      "execution_count": 7,
      "outputs": [
        {
          "output_type": "stream",
          "name": "stdout",
          "text": [
            "418\n",
            "449\n",
            "485\n",
            "503\n",
            "429\n"
          ]
        }
      ]
    },
    {
      "cell_type": "code",
      "source": [
        "!mkdir dataset\n",
        "!mkdir dataset/deportivos\n",
        "!mkdir dataset/sedanes\n",
        "!mkdir dataset/coupe\n",
        "!mkdir dataset/camionetas\n",
        "!mkdir dataset/pickups\n"
      ],
      "metadata": {
        "id": "s6CdLMcnvUKQ"
      },
      "execution_count": 8,
      "outputs": []
    },
    {
      "cell_type": "code",
      "source": [],
      "metadata": {
        "id": "cqj1UmY5xtGF"
      },
      "execution_count": null,
      "outputs": []
    },
    {
      "cell_type": "code",
      "source": [
        "import shutil\n",
        "import os\n",
        "carpeta_fuente = '/content/deportivos'\n",
        "carpeta_destino = '/content/dataset/deportivos'\n",
        "\n",
        "imagenes = os.listdir(carpeta_fuente)\n",
        "\n",
        "for i, nombreimg in enumerate(imagenes):\n",
        "  if i < 418:\n",
        "    #Copia de la carpeta fuente a la destino\n",
        "    shutil.copy(carpeta_fuente + '/' + nombreimg, carpeta_destino + '/' + nombreimg)"
      ],
      "metadata": {
        "id": "G9jFZE5CxA0Y"
      },
      "execution_count": 16,
      "outputs": []
    },
    {
      "cell_type": "code",
      "source": [
        "carpeta_fuente = '/content/sedanes'\n",
        "carpeta_destino = '/content/dataset/sedanes'\n",
        "\n",
        "imagenes = os.listdir(carpeta_fuente)\n",
        "\n",
        "for i, nombreimg in enumerate(imagenes):\n",
        "  if i < 419:\n",
        "    #Copia de la carpeta fuente a la destino\n",
        "    shutil.copy(carpeta_fuente + '/' + nombreimg, carpeta_destino + '/' + nombreimg)"
      ],
      "metadata": {
        "id": "22-qvo4RyTjs"
      },
      "execution_count": 17,
      "outputs": []
    },
    {
      "cell_type": "code",
      "source": [
        "carpeta_fuente = '/content/coupe'\n",
        "carpeta_destino = '/content/dataset/coupe'\n",
        "\n",
        "imagenes = os.listdir(carpeta_fuente)\n",
        "\n",
        "for i, nombreimg in enumerate(imagenes):\n",
        "  if i < 419:\n",
        "    #Copia de la carpeta fuente a la destino\n",
        "    shutil.copy(carpeta_fuente + '/' + nombreimg, carpeta_destino + '/' + nombreimg)"
      ],
      "metadata": {
        "id": "XPewoF6hyTut"
      },
      "execution_count": 12,
      "outputs": []
    },
    {
      "cell_type": "code",
      "source": [
        "carpeta_fuente = '/content/pickups'\n",
        "carpeta_destino = '/content/dataset/pickups'\n",
        "\n",
        "imagenes = os.listdir(carpeta_fuente)\n",
        "\n",
        "for i, nombreimg in enumerate(imagenes):\n",
        "  if i < 419:\n",
        "    #Copia de la carpeta fuente a la destino\n",
        "    shutil.copy(carpeta_fuente + '/' + nombreimg, carpeta_destino + '/' + nombreimg)"
      ],
      "metadata": {
        "id": "G8oA0iY2yT3s"
      },
      "execution_count": 18,
      "outputs": []
    },
    {
      "cell_type": "code",
      "source": [
        "carpeta_fuente = '/content/camionetas'\n",
        "carpeta_destino = '/content/dataset/camionetas'\n",
        "\n",
        "imagenes = os.listdir(carpeta_fuente)\n",
        "\n",
        "for i, nombreimg in enumerate(imagenes):\n",
        "  if i < 420:\n",
        "    #Copia de la carpeta fuente a la destino\n",
        "    shutil.copy(carpeta_fuente + '/' + nombreimg, carpeta_destino + '/' + nombreimg)"
      ],
      "metadata": {
        "id": "-h3XLXisyUOz"
      },
      "execution_count": 19,
      "outputs": []
    },
    {
      "cell_type": "code",
      "source": [
        "import matplotlib.pyplot as plt\n",
        "import matplotlib.image as mpimg\n",
        "from tensorflow.keras.preprocessing.image import ImageDataGenerator\n",
        "import numpy as np\n",
        "\n",
        "#Crear el dataset generador\n",
        "datagen = ImageDataGenerator(\n",
        "    rescale=1. / 255,\n",
        "    rotation_range = 30,\n",
        "    width_shift_range = 0.25,\n",
        "    height_shift_range = 0.25,\n",
        "    shear_range = 15,\n",
        "    zoom_range = [0.5, 1.5],\n",
        "    validation_split=0.2 #20% para pruebas\n",
        ")\n",
        "\n",
        "#Generadores para sets de entrenamiento y pruebas\n",
        "data_gen_entrenamiento = datagen.flow_from_directory('/content/dataset', target_size=(224,224),\n",
        "                                                     batch_size=32, shuffle=True, subset='training')\n",
        "data_gen_pruebas = datagen.flow_from_directory('/content/dataset', target_size=(224,224),\n",
        "                                                     batch_size=32, shuffle=True, subset='validation')\n",
        "\n",
        "#Imprimir 10 imagenes del generador de entrenamiento\n",
        "for imagen, etiqueta in data_gen_entrenamiento:\n",
        "  for i in range(10):\n",
        "    plt.subplot(2,5,i+1)\n",
        "    plt.xticks([])\n",
        "    plt.yticks([])\n",
        "    plt.imshow(imagen[i])\n",
        "  break\n",
        "plt.show()\n"
      ],
      "metadata": {
        "colab": {
          "base_uri": "https://localhost:8080/",
          "height": 248
        },
        "id": "_EpXT1hhzZP9",
        "outputId": "930e6ad1-9c97-404e-b52d-92740951707e"
      },
      "execution_count": 20,
      "outputs": [
        {
          "output_type": "stream",
          "name": "stdout",
          "text": [
            "Found 1678 images belonging to 5 classes.\n",
            "Found 415 images belonging to 5 classes.\n"
          ]
        },
        {
          "output_type": "display_data",
          "data": {
            "text/plain": [
              "<Figure size 432x288 with 10 Axes>"
            ],
            "image/png": "[encoded data removed]"
          },
          "metadata": {}
        }
      ]
    },
    {
      "cell_type": "code",
      "source": [
        "import tensorflow as tf\n",
        "import tensorflow_hub as hub\n",
        "\n",
        "url = \"https://tfhub.dev/google/tf2-preview/mobilenet_v2/feature_vector/4\"\n",
        "mobilenetv2 = hub.KerasLayer(url, input_shape=(224,224,3))"
      ],
      "metadata": {
        "id": "bwWgyOQ216pL"
      },
      "execution_count": 21,
      "outputs": []
    },
    {
      "cell_type": "code",
      "source": [
        "#Congelar el modelo descargado\n",
        "mobilenetv2.trainable = False"
      ],
      "metadata": {
        "id": "He3s_JC019KI"
      },
      "execution_count": 22,
      "outputs": []
    },
    {
      "cell_type": "code",
      "source": [
        "modelo = tf.keras.Sequential([\n",
        "    mobilenetv2,\n",
        "    tf.keras.layers.Dense(5, activation='softmax')\n",
        "])"
      ],
      "metadata": {
        "id": "rOk0ihdw2NyU"
      },
      "execution_count": 23,
      "outputs": []
    },
    {
      "cell_type": "code",
      "source": [
        "modelo.summary()"
      ],
      "metadata": {
        "colab": {
          "base_uri": "https://localhost:8080/"
        },
        "id": "L2lTunFw4UMh",
        "outputId": "edc6f08a-876c-4609-c41b-410847380f51"
      },
      "execution_count": 24,
      "outputs": [
        {
          "output_type": "stream",
          "name": "stdout",
          "text": [
            "Model: \"sequential\"\n",
            "_________________________________________________________________\n",
            " Layer (type)                Output Shape              Param #   \n",
            "=================================================================\n",
            " keras_layer (KerasLayer)    (None, 1280)              2257984   \n",
            "                                                                 \n",
            " dense (Dense)               (None, 5)                 6405      \n",
            "                                                                 \n",
            "=================================================================\n",
            "Total params: 2,264,389\n",
            "Trainable params: 6,405\n",
            "Non-trainable params: 2,257,984\n",
            "_________________________________________________________________\n"
          ]
        }
      ]
    },
    {
      "cell_type": "code",
      "source": [
        "#Compilar como siempre\n",
        "modelo.compile(\n",
        "    optimizer='adam',\n",
        "    loss='categorical_crossentropy',\n",
        "    metrics=['accuracy']\n",
        ")"
      ],
      "metadata": {
        "id": "LKD34EJ_2OgT"
      },
      "execution_count": 25,
      "outputs": []
    },
    {
      "cell_type": "code",
      "source": [
        "#Entrenar el modelo\n",
        "EPOCAS = 50\n",
        "\n",
        "historial = modelo.fit(\n",
        "    data_gen_entrenamiento, epochs=EPOCAS, batch_size=32,\n",
        "    validation_data=data_gen_pruebas\n",
        ")"
      ],
      "metadata": {
        "colab": {
          "base_uri": "https://localhost:8080/"
        },
        "id": "Z5u6Qhha2k3G",
        "outputId": "f319d1b9-268e-4946-9caa-d7e25045901c"
      },
      "execution_count": 26,
      "outputs": [
        {
          "output_type": "stream",
          "name": "stdout",
          "text": [
            "Epoch 1/50\n",
            "53/53 [==============================] - ETA: 0s - loss: 1.5321 - accuracy: 0.3403"
          ]
        },
        {
          "output_type": "stream",
          "name": "stderr",
          "text": [
            "/usr/local/lib/python3.8/dist-packages/PIL/Image.py:959: UserWarning: Palette images with Transparency expressed in bytes should be converted to RGBA images\n",
            "  warnings.warn(\n"
          ]
        },
        {
          "output_type": "stream",
          "name": "stdout",
          "text": [
            "\b\b\b\b\b\b\b\b\b\b\b\b\b\b\b\b\b\b\b\b\b\b\b\b\b\b\b\b\b\b\b\b\b\b\b\b\b\b\b\b\b\b\b\b\b\b\b\b\b\b\b\b\b\b\b\b\b\b\b\b\b\b\b\b\b\b\b\b\b\b\b\b\b\b\b\b\b\b\b\b\b\b\r53/53 [==============================] - 43s 622ms/step - loss: 1.5321 - accuracy: 0.3403 - val_loss: 1.2755 - val_accuracy: 0.4602\n",
            "Epoch 2/50\n",
            "53/53 [==============================] - 31s 592ms/step - loss: 1.2659 - accuracy: 0.4619 - val_loss: 1.1617 - val_accuracy: 0.5205\n",
            "Epoch 3/50\n",
            "53/53 [==============================] - 31s 586ms/step - loss: 1.1846 - accuracy: 0.5036 - val_loss: 1.1334 - val_accuracy: 0.5301\n",
            "Epoch 4/50\n",
            "53/53 [==============================] - 32s 600ms/step - loss: 1.1487 - accuracy: 0.5215 - val_loss: 1.0730 - val_accuracy: 0.5542\n",
            "Epoch 5/50\n",
            "53/53 [==============================] - 30s 574ms/step - loss: 1.0886 - accuracy: 0.5614 - val_loss: 1.0016 - val_accuracy: 0.5904\n",
            "Epoch 6/50\n",
            "53/53 [==============================] - 30s 576ms/step - loss: 1.0557 - accuracy: 0.5578 - val_loss: 1.0120 - val_accuracy: 0.6000\n",
            "Epoch 7/50\n",
            "53/53 [==============================] - 31s 589ms/step - loss: 1.0624 - accuracy: 0.5501 - val_loss: 1.0132 - val_accuracy: 0.5831\n",
            "Epoch 8/50\n",
            "53/53 [==============================] - 30s 571ms/step - loss: 1.0666 - accuracy: 0.5620 - val_loss: 0.9996 - val_accuracy: 0.5831\n",
            "Epoch 9/50\n",
            "53/53 [==============================] - 30s 573ms/step - loss: 1.0303 - accuracy: 0.5781 - val_loss: 1.0361 - val_accuracy: 0.5904\n",
            "Epoch 10/50\n",
            "53/53 [==============================] - 31s 588ms/step - loss: 0.9754 - accuracy: 0.6061 - val_loss: 1.0217 - val_accuracy: 0.5855\n",
            "Epoch 11/50\n",
            "53/53 [==============================] - 30s 577ms/step - loss: 0.9770 - accuracy: 0.6055 - val_loss: 0.9552 - val_accuracy: 0.6145\n",
            "Epoch 12/50\n",
            "53/53 [==============================] - 30s 565ms/step - loss: 0.9960 - accuracy: 0.5882 - val_loss: 0.9402 - val_accuracy: 0.6169\n",
            "Epoch 13/50\n",
            "53/53 [==============================] - 31s 582ms/step - loss: 0.9552 - accuracy: 0.6108 - val_loss: 0.9444 - val_accuracy: 0.6120\n",
            "Epoch 14/50\n",
            "53/53 [==============================] - 30s 560ms/step - loss: 0.9590 - accuracy: 0.6120 - val_loss: 0.9344 - val_accuracy: 0.6337\n",
            "Epoch 15/50\n",
            "53/53 [==============================] - 30s 564ms/step - loss: 0.9545 - accuracy: 0.6204 - val_loss: 0.9475 - val_accuracy: 0.6096\n",
            "Epoch 16/50\n",
            "53/53 [==============================] - 30s 564ms/step - loss: 0.9631 - accuracy: 0.6049 - val_loss: 1.0167 - val_accuracy: 0.5663\n",
            "Epoch 17/50\n",
            "53/53 [==============================] - 31s 581ms/step - loss: 1.0381 - accuracy: 0.5822 - val_loss: 0.9477 - val_accuracy: 0.6361\n",
            "Epoch 18/50\n",
            "53/53 [==============================] - 30s 563ms/step - loss: 0.9648 - accuracy: 0.6025 - val_loss: 0.9395 - val_accuracy: 0.6072\n",
            "Epoch 19/50\n",
            "53/53 [==============================] - 30s 566ms/step - loss: 0.9549 - accuracy: 0.6180 - val_loss: 0.9078 - val_accuracy: 0.6313\n",
            "Epoch 20/50\n",
            "53/53 [==============================] - 31s 581ms/step - loss: 0.9601 - accuracy: 0.6144 - val_loss: 0.8895 - val_accuracy: 0.6337\n",
            "Epoch 21/50\n",
            "53/53 [==============================] - 30s 566ms/step - loss: 0.9430 - accuracy: 0.6180 - val_loss: 0.9042 - val_accuracy: 0.6337\n",
            "Epoch 22/50\n",
            "53/53 [==============================] - 30s 571ms/step - loss: 0.9112 - accuracy: 0.6484 - val_loss: 0.9413 - val_accuracy: 0.6169\n",
            "Epoch 23/50\n",
            "53/53 [==============================] - 30s 576ms/step - loss: 0.9065 - accuracy: 0.6329 - val_loss: 0.8890 - val_accuracy: 0.6554\n",
            "Epoch 24/50\n",
            "53/53 [==============================] - 31s 586ms/step - loss: 0.9048 - accuracy: 0.6377 - val_loss: 0.8956 - val_accuracy: 0.6313\n",
            "Epoch 25/50\n",
            "53/53 [==============================] - 30s 572ms/step - loss: 0.9150 - accuracy: 0.6281 - val_loss: 0.9240 - val_accuracy: 0.6193\n",
            "Epoch 26/50\n",
            "53/53 [==============================] - 30s 568ms/step - loss: 0.9147 - accuracy: 0.6293 - val_loss: 0.9397 - val_accuracy: 0.6072\n",
            "Epoch 27/50\n",
            "53/53 [==============================] - 32s 605ms/step - loss: 0.8934 - accuracy: 0.6484 - val_loss: 0.9220 - val_accuracy: 0.6145\n",
            "Epoch 28/50\n",
            "53/53 [==============================] - 30s 573ms/step - loss: 0.8930 - accuracy: 0.6460 - val_loss: 0.8851 - val_accuracy: 0.6337\n",
            "Epoch 29/50\n",
            "53/53 [==============================] - 30s 568ms/step - loss: 0.9136 - accuracy: 0.6257 - val_loss: 0.9509 - val_accuracy: 0.6000\n",
            "Epoch 30/50\n",
            "53/53 [==============================] - 30s 564ms/step - loss: 0.9211 - accuracy: 0.6293 - val_loss: 0.9547 - val_accuracy: 0.6072\n",
            "Epoch 31/50\n",
            "53/53 [==============================] - 31s 589ms/step - loss: 0.9050 - accuracy: 0.6335 - val_loss: 0.9024 - val_accuracy: 0.6217\n",
            "Epoch 32/50\n",
            "53/53 [==============================] - 30s 560ms/step - loss: 0.8956 - accuracy: 0.6365 - val_loss: 0.9129 - val_accuracy: 0.6554\n",
            "Epoch 33/50\n",
            "53/53 [==============================] - 30s 563ms/step - loss: 0.9300 - accuracy: 0.6257 - val_loss: 0.9437 - val_accuracy: 0.6289\n",
            "Epoch 34/50\n",
            "53/53 [==============================] - 31s 582ms/step - loss: 0.8677 - accuracy: 0.6448 - val_loss: 0.8626 - val_accuracy: 0.6554\n",
            "Epoch 35/50\n",
            "53/53 [==============================] - 30s 566ms/step - loss: 0.8549 - accuracy: 0.6555 - val_loss: 0.9988 - val_accuracy: 0.5928\n",
            "Epoch 36/50\n",
            "53/53 [==============================] - 30s 561ms/step - loss: 0.9043 - accuracy: 0.6371 - val_loss: 0.8877 - val_accuracy: 0.6699\n",
            "Epoch 37/50\n",
            "53/53 [==============================] - 31s 580ms/step - loss: 0.8780 - accuracy: 0.6549 - val_loss: 0.9336 - val_accuracy: 0.6458\n",
            "Epoch 38/50\n",
            "53/53 [==============================] - 29s 557ms/step - loss: 0.8667 - accuracy: 0.6549 - val_loss: 0.8901 - val_accuracy: 0.6554\n",
            "Epoch 39/50\n",
            "53/53 [==============================] - 30s 562ms/step - loss: 0.8813 - accuracy: 0.6460 - val_loss: 0.9819 - val_accuracy: 0.6241\n",
            "Epoch 40/50\n",
            "53/53 [==============================] - 30s 564ms/step - loss: 0.8714 - accuracy: 0.6496 - val_loss: 0.9198 - val_accuracy: 0.6410\n",
            "Epoch 41/50\n",
            "53/53 [==============================] - 30s 578ms/step - loss: 0.8976 - accuracy: 0.6478 - val_loss: 0.9192 - val_accuracy: 0.6434\n",
            "Epoch 42/50\n",
            "53/53 [==============================] - 30s 575ms/step - loss: 0.8492 - accuracy: 0.6710 - val_loss: 0.9008 - val_accuracy: 0.6434\n",
            "Epoch 43/50\n",
            "53/53 [==============================] - 30s 570ms/step - loss: 0.8704 - accuracy: 0.6555 - val_loss: 0.9237 - val_accuracy: 0.6169\n",
            "Epoch 44/50\n",
            "53/53 [==============================] - 31s 586ms/step - loss: 0.8450 - accuracy: 0.6549 - val_loss: 0.8694 - val_accuracy: 0.6747\n",
            "Epoch 45/50\n",
            "53/53 [==============================] - 30s 570ms/step - loss: 0.8728 - accuracy: 0.6502 - val_loss: 0.9651 - val_accuracy: 0.5711\n",
            "Epoch 46/50\n",
            "53/53 [==============================] - 30s 571ms/step - loss: 0.8496 - accuracy: 0.6538 - val_loss: 0.8909 - val_accuracy: 0.6361\n",
            "Epoch 47/50\n",
            "53/53 [==============================] - 31s 589ms/step - loss: 0.8537 - accuracy: 0.6603 - val_loss: 0.8715 - val_accuracy: 0.6337\n",
            "Epoch 48/50\n",
            "53/53 [==============================] - 30s 564ms/step - loss: 0.8613 - accuracy: 0.6573 - val_loss: 0.9123 - val_accuracy: 0.6337\n",
            "Epoch 49/50\n",
            "53/53 [==============================] - 29s 557ms/step - loss: 0.8606 - accuracy: 0.6579 - val_loss: 0.9832 - val_accuracy: 0.5880\n",
            "Epoch 50/50\n",
            "53/53 [==============================] - 35s 667ms/step - loss: 0.8659 - accuracy: 0.6573 - val_loss: 0.9320 - val_accuracy: 0.6193\n"
          ]
        }
      ]
    },
    {
      "cell_type": "code",
      "source": [
        "#Graficas de precisión\n",
        "acc = historial.history['accuracy']\n",
        "val_acc = historial.history['val_accuracy']\n",
        "\n",
        "loss = historial.history['loss']\n",
        "val_loss = historial.history['val_loss']\n",
        "\n",
        "rango_epocas = range(50)\n",
        "\n",
        "plt.figure(figsize=(8,8))\n",
        "plt.subplot(1,2,1)\n",
        "plt.plot(rango_epocas, acc, label='Precisión Entrenamiento')\n",
        "plt.plot(rango_epocas, val_acc, label='Precisión Pruebas')\n",
        "plt.legend(loc='lower right')\n",
        "plt.title('Precisión de entrenamiento y pruebas')\n",
        "\n",
        "plt.subplot(1,2,2)\n",
        "plt.plot(rango_epocas, loss, label='Pérdida de entrenamiento')\n",
        "plt.plot(rango_epocas, val_loss, label='Pérdida de pruebas')\n",
        "plt.legend(loc='upper right')\n",
        "plt.title('Pérdida de entrenamiento y pruebas')\n",
        "plt.show()"
      ],
      "metadata": {
        "colab": {
          "base_uri": "https://localhost:8080/",
          "height": 499
        },
        "id": "M7ZJcLN92zOk",
        "outputId": "90caff55-fa29-4876-ecf2-fccfcf002f1e"
      },
      "execution_count": 27,
      "outputs": [
        {
          "output_type": "display_data",
          "data": {
            "text/plain": [
              "<Figure size 576x576 with 2 Axes>"
            ],
            "image/png": "[encoded data removed]"
          },
          "metadata": {
            "needs_background": "light"
          }
        }
      ]
    },
    {
      "cell_type": "code",
      "source": [
        "from PIL import Image\n",
        "import requests\n",
        "from io import BytesIO\n",
        "import cv2\n",
        "\n",
        "def categorizar(url):\n",
        "  respuesta = requests.get(url)\n",
        "  img = Image.open(BytesIO(respuesta.content))\n",
        "  img = np.array(img).astype(float)/255\n",
        "\n",
        "  img = cv2.resize(img, (224,224))\n",
        "  prediccion = modelo.predict(img.reshape(-1, 224, 224, 3))\n",
        "  return np.argmax(prediccion[0], axis=-1)\n"
      ],
      "metadata": {
        "id": "rcyTa000G4km"
      },
      "execution_count": 28,
      "outputs": []
    },
    {
      "cell_type": "code",
      "source": [
        "def hacer_prediccion(url):\n",
        "  prediccion = categorizar(url)\n",
        "  print(prediccion)\n",
        "  return prediccion\n",
        "#0 camionetas\n",
        "#1 coupe\n",
        "#2 deportivos\n",
        "#3 pick up\n",
        "#4 sedan"
      ],
      "metadata": {
        "id": "7Uhqszy8HMnJ"
      },
      "execution_count": 33,
      "outputs": []
    },
    {
      "cell_type": "code",
      "source": [],
      "metadata": {
        "colab": {
          "base_uri": "https://localhost:8080/"
        },
        "id": "CZxyb_iN5KSu",
        "outputId": "51a6dfcc-5498-4181-d421-f6fc845458f3"
      },
      "execution_count": 34,
      "outputs": [
        {
          "output_type": "stream",
          "name": "stdout",
          "text": [
            "1/1 [==============================] - 0s 27ms/step\n",
            "2\n"
          ]
        },
        {
          "output_type": "execute_result",
          "data": {
            "text/plain": [
              "2"
            ]
          },
          "metadata": {},
          "execution_count": 34
        }
      ]
    },
    {
      "cell_type": "code",
      "source": [],
      "metadata": {
        "id": "tf0Ifg386j4h"
      },
      "execution_count": null,
      "outputs": []
    },
    {
      "cell_type": "code",
      "source": [
        "#Crear la carpeta para exportarla a TF Serving\n",
        "!mkdir -p carpeta_salida/modelo_carros/1"
      ],
      "metadata": {
        "id": "IwaNZ6o9daSR"
      },
      "execution_count": 35,
      "outputs": []
    },
    {
      "cell_type": "code",
      "source": [
        "#Guardar el modelo en formato SavedModel\n",
        "modelo.save('carpeta_salida/modelo_carros/1')"
      ],
      "metadata": {
        "id": "KWAgIuTxda49"
      },
      "execution_count": 36,
      "outputs": []
    },
    {
      "cell_type": "code",
      "source": [
        "#Hacerlo un zip para bajarlo y usarlo en otro lado\n",
        "!zip -r modelo_carros.zip /content/carpeta_salida/modelo_carros/"
      ],
      "metadata": {
        "id": "veyk3HIPddyZ",
        "colab": {
          "base_uri": "https://localhost:8080/"
        },
        "outputId": "ae396b5c-5a28-44fa-e423-d97297733e7a"
      },
      "execution_count": 37,
      "outputs": [
        {
          "output_type": "stream",
          "name": "stdout",
          "text": [
            "  adding: content/carpeta_salida/modelo_carros/ (stored 0%)\n",
            "  adding: content/carpeta_salida/modelo_carros/1/ (stored 0%)\n",
            "  adding: content/carpeta_salida/modelo_carros/1/assets/ (stored 0%)\n",
            "  adding: content/carpeta_salida/modelo_carros/1/variables/ (stored 0%)\n",
            "  adding: content/carpeta_salida/modelo_carros/1/variables/variables.index (deflated 78%)\n",
            "  adding: content/carpeta_salida/modelo_carros/1/variables/variables.data-00000-of-00001 (deflated 8%)\n",
            "  adding: content/carpeta_salida/modelo_carros/1/keras_metadata.pb (deflated 81%)\n",
            "  adding: content/carpeta_salida/modelo_carros/1/saved_model.pb (deflated 92%)\n"
          ]
        }
      ]
    }
  ]
}