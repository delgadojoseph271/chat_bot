{
  "nbformat": 4,
  "nbformat_minor": 0,
  "metadata": {
    "colab": {
      "provenance": [],
      "mount_file_id": "164MA34hfbrBK192HCcWZEdE93R2Shw6j",
      "authorship_tag": "ABX9TyP2/gePDohquqOqRzgtI1si",
      "include_colab_link": true
    },
    "kernelspec": {
      "name": "python3",
      "display_name": "Python 3"
    },
    "language_info": {
      "name": "python"
    }
  },
  "cells": [
    {
      "cell_type": "markdown",
      "metadata": {
        "id": "view-in-github",
        "colab_type": "text"
      },
      "source": [
        "<a href=\"https://colab.research.google.com/github/JeanRodriguezQ/chat_bot/blob/recomendaciones_bot/SIC2022_Pruebas_Sistema_Recomendaci%C3%B3n.ipynb\" target=\"_parent\"><img src=\"https://colab.research.google.com/assets/colab-badge.svg\" alt=\"Open In Colab\"/></a>"
      ]
    },
    {
      "cell_type": "markdown",
      "source": [
        "#Crear sistema de recomendación basado en NLP"
      ],
      "metadata": {
        "id": "WDxdcvpbDTq2"
      }
    },
    {
      "cell_type": "code",
      "source": [
        "import pandas as pd\n",
        "bodega = {\"sedán\":{\n",
        "          \"nissan\":{\n",
        "            \"modelo\":\"sentra\",\n",
        "            \"year\":2022,\n",
        "            \"potencia_HP\":149,\n",
        "            \"rango de precio\":[19950,22700],\n",
        "            \"consumo_MPG\": 39,\n",
        "            \"tipo\" : \"gasolina\",\n",
        "            \"plazas\" : 5,\n",
        "            \"transmicion\": \"automatico\",\n",
        "            },\n",
        "          \"honda\":{\n",
        "            \"modelo\":\"accord\",\n",
        "            \"year\":\"\",\n",
        "            \"potencia_HP\":192,            \n",
        "            \"rango de precio\":[26520,38450],\n",
        "            \"consumo_MPG\": 47,\n",
        "            \"tipo\": \"hibrido\",\n",
        "            \"plazas\": 5,\n",
        "            \"transmicion\": \"automatico\"\n",
        "            },\n",
        "           \"toyota\":{\n",
        "            \"modelo\":\"corolla\", \n",
        "            \"year\":\"\",\n",
        "            \"potencia_HP\":122,\n",
        "            \n",
        "            \"rango de precio\":[26520,38450],\n",
        "            \"consumo_MPG\": 47,\n",
        "            \"tipo\": \"hibrido\",\n",
        "            \"plazas\": 5,\n",
        "            \"transmicion\": \"automatico\"\n",
        "            },\n",
        "           },\n",
        "          \n",
        "        \"pickup\":{\n",
        "          \"toyota\":{\n",
        "            \"modelo\":\"hilux\",\n",
        "            \"year\":\"\",\n",
        "            \"potencia_HP\":122,\n",
        "            \n",
        "            \"rango de precio\":[45300,48000],\n",
        "            \"consumo_MPG\": 26.72,\n",
        "            \"tipo\": \"diesel\",\n",
        "            \"plazas\": 2,\n",
        "            \"transmicion\": \"automatico\"\n",
        "                  \n",
        "              },\n",
        "          \"ford\":{\n",
        "            \"modelo\":\"ranger\",\n",
        "            \"year\":\"\",\n",
        "            \"potencia_HP\":122,\n",
        "            \n",
        "            \"rango de precio\":[45300,48000],\n",
        "            \"consumo_MPG\": 24.24,\n",
        "            \"tipo\": \"diesel \",\n",
        "            \"plazas\": 5,\n",
        "            \"transmicion\": \"manual\"\n",
        "                  \n",
        "              },\n",
        "          \"isuzu\":{\n",
        "            \"modelo\":\"Dmax\",\n",
        "            \"year\":\"\",\n",
        "            \"potencia_HP\":122,\n",
        "            \n",
        "            \"rango de precio\":[71000],\n",
        "            \"consumo_MPG\": 14.9,\n",
        "            \"tipo\": \"diesel \",\n",
        "            \"plazas\": 5,\n",
        "            \"transmicion\": \"manual\"      \n",
        "              }\n",
        "\n",
        "\n",
        "          },\n",
        "        \"camioneta\":{\n",
        "          \"honda\":{\n",
        "            \"modelo\":\"HR-V\",\n",
        "            \"year\":\"\",\n",
        "            \"potencia_HP\":119,\n",
        "            \n",
        "            \"rango de precio\":[26990,30990],\n",
        "            \"consumo_MPG\": 46.1,\n",
        "            \"tipo\": \"gasolina \",\n",
        "            \"plazas\": 5,\n",
        "            \"transmicion\": \"manual\"\n",
        "                  \n",
        "              },\n",
        "          \"toyota\":{\n",
        "            \"modelo\":\"highlander\",\n",
        "            \"year\":\"\",\n",
        "            \"potencia_HP\":122,\n",
        "            \n",
        "            \"rango de precio\":[36420,46075],\n",
        "            \"consumo_MPG\":24.1,\n",
        "            \"tipo\": \"gasolina \",\n",
        "            \"plazas\": 5,\n",
        "            \"transmicion\": \"automatico\"\n",
        "                  \n",
        "              },\n",
        "          \"nissan\":{\n",
        "            \"modelo\":\"X-Trail\",\n",
        "            \"year\":\"\",\n",
        "            \"potencia_HP\":163,\n",
        "            \n",
        "            \"rango de precio\":[42160,56510],\n",
        "            \"consumo_MPG\": 44.3,\n",
        "            \"tipo\": \"hibrido\",\n",
        "            \"plazas\": 5,\n",
        "            \"transmicion\": \"automatico\"\n",
        "            }\n",
        "            },\n",
        "        \"coupé\":{\n",
        "\n",
        "          \"bmw\":{\n",
        "            \"modelo\":\"serie 8\",\n",
        "            \"year\":\"\",\n",
        "            \"potencia_HP\":350,\n",
        "            \n",
        "            \"rango de precio\":[103306,198481],\n",
        "            \"consumo_MPG\": 22,\n",
        "            \"tipo\": \"electrico \",                                                                                                                                                                         \n",
        "    \n",
        "            \"plazas\": \"4\",\n",
        "            \"transmicion\": \"automatico\"\n",
        "                  \n",
        "              },\n",
        "          \"subaru\":{\n",
        "            \"modelo\":\"BRZ\",\n",
        "            \"year\":\"\",\n",
        "            \"potencia_HP\":163,\n",
        "            \n",
        "            \"rango de precio\":[42160,56510],\n",
        "            \"consumo_MPG\": 44.3,\n",
        "            \"tipo\": \"hibrido\",\n",
        "            \"plazas\": 5,\n",
        "            \"transmicion\": \"automatico\"\n",
        "            },\n",
        "                  \n",
        "\n",
        "\n",
        "           },\n",
        "        \"deportivo\":{\n",
        "          \"nissan\":{\n",
        "            \"modelo\":\"gtr nismo\",\n",
        "            \"year\":2017,\n",
        "            \"potencia_HP\":592,\n",
        "            \n",
        "            \"rango de precio\":[106050,146.000],\n",
        "            \"consumo_MPG\": 19.9,\n",
        "            \"tipo\": \"gasolina \",\n",
        "            \"plazas\": 4,\n",
        "            \"transmicion\": \"automatico\"\n",
        "                  \n",
        "              },\n",
        "          \"toyota\":{\n",
        "            \"modelo\":\"gr supra\",\n",
        "            \"year\":2023,\n",
        "            \"potencia_HP\":368,\n",
        "            \"rango de precio\":[103306,198481],\n",
        "            \"consumo_MPG\": 29.0,\n",
        "            \"tipo\": \"electrico \",\n",
        "            \"plazas\": \"4\",\n",
        "            \"transmicion\": \"automatico\"\n",
        "                  \n",
        "              },\n",
        "          \"corvette\":{\n",
        "            \"modelo\":\"stingray\",\n",
        "            \"year\":2019,\n",
        "            \"potencia_HP\":495,\n",
        "            \n",
        "            \"rango de precio\":[139999,159999],\n",
        "            \"consumo_MPG\": 15,\n",
        "            \"tipo\": \"gasolina\",\n",
        "            \"plazas\": 2,\n",
        "            \"transmicion\": \"automatico\"      \n",
        "\n",
        "\n",
        "            }\n",
        "          }\n",
        "}\n",
        "# Solution for nested dict\n",
        "#Se genera un MultiIndex DF desde los diccionarios anidados.\n",
        "bodega_df = pd.concat({k:pd.DataFrame(v).T for k, v in bodega.items()},axis=0)\n",
        "bodega_df\n",
        "\n",
        "#pendiente de solucionar caso de eléctricos\n",
        "\n",
        "\n",
        "\n",
        "def guardar_json(datos):\n",
        "  import json\n",
        "  archivo = open('/content/drive/MyDrive/Colab Notebooks/bodega_autos.json', 'w+')\n",
        "  json.dump(datos,archivo,indent=4)\n",
        "\n",
        "guardar_json(bodega)  "
      ],
      "metadata": {
        "id": "Yft-6eOVEwxw"
      },
      "execution_count": null,
      "outputs": []
    },
    {
      "cell_type": "code",
      "source": [
        "# Import dependencies for model\n",
        "import numpy as np\n",
        "import pandas as pd\n",
        "import sklearn\n",
        "from sklearn.neighbors import NearestNeighbors"
      ],
      "metadata": {
        "id": "gStlDvDicTk3"
      },
      "execution_count": null,
      "outputs": []
    },
    {
      "cell_type": "markdown",
      "source": [
        "#Repaso DF"
      ],
      "metadata": {
        "id": "EP8Kyr3A3rLb"
      }
    },
    {
      "cell_type": "code",
      "source": [
        "#load the raw data into a Pandas dataframe\n",
        "cars = bodega_df\n",
        "cars.columns = [\"modelo\",\"year\",\"potencia\",\"rango_de_precio\",\"consumo_combustible\",\"combustible\",\"plazas\",\"transmicion\"]\n",
        "cars"
      ],
      "metadata": {
        "colab": {
          "base_uri": "https://localhost:8080/",
          "height": 235
        },
        "id": "phzm_6IxI3g9",
        "outputId": "46abc21b-2d0b-4508-a5c8-a19c70397ec2"
      },
      "execution_count": null,
      "outputs": [
        {
          "output_type": "error",
          "ename": "NameError",
          "evalue": "ignored",
          "traceback": [
            "\u001b[0;31m---------------------------------------------------------------------------\u001b[0m",
            "\u001b[0;31mNameError\u001b[0m                                 Traceback (most recent call last)",
            "\u001b[0;32m<ipython-input-1-07c6cafbd1ba>\u001b[0m in \u001b[0;36m<module>\u001b[0;34m\u001b[0m\n\u001b[1;32m      1\u001b[0m \u001b[0;31m#load the raw data into a Pandas dataframe\u001b[0m\u001b[0;34m\u001b[0m\u001b[0;34m\u001b[0m\u001b[0;34m\u001b[0m\u001b[0m\n\u001b[0;32m----> 2\u001b[0;31m \u001b[0mcars\u001b[0m \u001b[0;34m=\u001b[0m \u001b[0mbodega_df\u001b[0m\u001b[0;34m\u001b[0m\u001b[0;34m\u001b[0m\u001b[0m\n\u001b[0m\u001b[1;32m      3\u001b[0m \u001b[0mcars\u001b[0m\u001b[0;34m.\u001b[0m\u001b[0mcolumns\u001b[0m \u001b[0;34m=\u001b[0m \u001b[0;34m[\u001b[0m\u001b[0;34m\"modelo\"\u001b[0m\u001b[0;34m,\u001b[0m\u001b[0;34m\"year\"\u001b[0m\u001b[0;34m,\u001b[0m\u001b[0;34m\"potencia\"\u001b[0m\u001b[0;34m,\u001b[0m\u001b[0;34m\"rango_de_precio\"\u001b[0m\u001b[0;34m,\u001b[0m\u001b[0;34m\"consumo_combustible\"\u001b[0m\u001b[0;34m,\u001b[0m\u001b[0;34m\"combustible\"\u001b[0m\u001b[0;34m,\u001b[0m\u001b[0;34m\"plazas\"\u001b[0m\u001b[0;34m,\u001b[0m\u001b[0;34m\"transmicion\"\u001b[0m\u001b[0;34m]\u001b[0m\u001b[0;34m\u001b[0m\u001b[0;34m\u001b[0m\u001b[0m\n\u001b[1;32m      4\u001b[0m \u001b[0mcars\u001b[0m\u001b[0;34m\u001b[0m\u001b[0;34m\u001b[0m\u001b[0m\n",
            "\u001b[0;31mNameError\u001b[0m: name 'bodega_df' is not defined"
          ]
        }
      ]
    },
    {
      "cell_type": "code",
      "source": [
        "print(\"Tamaño del DF: \", cars.shape) # Tamaño de la matriz (Filas , Columnas)\n",
        "print(\"Filas: \", len(cars)) # Filas"
      ],
      "metadata": {
        "colab": {
          "base_uri": "https://localhost:8080/"
        },
        "id": "-VFc9iHcSp1K",
        "outputId": "7607f06f-6596-4a0c-b9f7-913a0dc5465f"
      },
      "execution_count": null,
      "outputs": [
        {
          "output_type": "stream",
          "name": "stdout",
          "text": [
            "Tamaño del DF:  (14, 8)\n",
            "Filas:  14\n"
          ]
        }
      ]
    },
    {
      "cell_type": "code",
      "source": [
        "print(\"Multi-Índice a usar: \\n\",cars.index)\n",
        "tipos = set(cars.index[n][0] for n in range(len(cars.index)))\n",
        "print(tipos)"
      ],
      "metadata": {
        "colab": {
          "base_uri": "https://localhost:8080/"
        },
        "id": "-k3bIGFAWfQr",
        "outputId": "bcc125e5-0d6a-4686-f8f1-71130cf9b1f1"
      },
      "execution_count": null,
      "outputs": [
        {
          "output_type": "stream",
          "name": "stdout",
          "text": [
            "Multi-Índice a usar: \n",
            " MultiIndex([(    'sedán',   'nissan'),\n",
            "            (    'sedán',    'honda'),\n",
            "            (    'sedán',   'toyota'),\n",
            "            (   'pickup',   'toyota'),\n",
            "            (   'pickup',     'ford'),\n",
            "            (   'pickup',    'isuzu'),\n",
            "            ('camioneta',    'honda'),\n",
            "            ('camioneta',   'toyota'),\n",
            "            ('camioneta',   'nissan'),\n",
            "            (    'coupé',      'bmw'),\n",
            "            (    'coupé',   'subaru'),\n",
            "            ('deportivo',   'nissan'),\n",
            "            ('deportivo',   'toyota'),\n",
            "            ('deportivo', 'corvette')],\n",
            "           )\n",
            "{'pickup', 'sedán', 'deportivo', 'coupé', 'camioneta'}\n"
          ]
        }
      ]
    },
    {
      "cell_type": "code",
      "source": [
        "print(\"Columnas: \\n\",cars.columns)"
      ],
      "metadata": {
        "colab": {
          "base_uri": "https://localhost:8080/"
        },
        "id": "yDa839LQXr97",
        "outputId": "ca6554c7-5a19-4a57-b815-53f1ed545720"
      },
      "execution_count": null,
      "outputs": [
        {
          "output_type": "stream",
          "name": "stdout",
          "text": [
            "Columnas: \n",
            " Index(['modelo', 'year', 'potencia', 'rango_de_precio', 'consumo_combustible',\n",
            "       'combustible', 'plazas', 'transmicion'],\n",
            "      dtype='object')\n"
          ]
        }
      ]
    },
    {
      "cell_type": "code",
      "source": [
        "print(\"valores: \\n\",cars.values)"
      ],
      "metadata": {
        "colab": {
          "base_uri": "https://localhost:8080/"
        },
        "id": "AlejklzoX1_t",
        "outputId": "ff212458-220a-4d58-be05-0519d6b3cea8"
      },
      "execution_count": null,
      "outputs": [
        {
          "output_type": "stream",
          "name": "stdout",
          "text": [
            "valores: \n",
            " [['sentra' 2022 149 list([19950, 22700]) 39 'gasolina' 5 'automatico']\n",
            " ['accord' '' 192 list([26520, 38450]) 47 'hibrido' 5 'automatico']\n",
            " ['corolla' '' 122 list([26520, 38450]) 47 'hibrido' 5 'automatico']\n",
            " ['hilux' '' 122 list([45300, 48000]) 26.72 'diesel' 2 'automatico']\n",
            " ['ranger' '' 122 list([45300, 48000]) 24.24 'diesel ' 5 'manual']\n",
            " ['Dmax' '' 122 list([71000]) 14.9 'diesel ' 5 'manual']\n",
            " ['HR-V' '' 119 list([26990, 30990]) 46.1 'gasolina ' 5 'manual']\n",
            " ['highlander' '' 122 list([36420, 46075]) 24.1 'gasolina ' 5\n",
            "  'automatico']\n",
            " ['X-Trail' '' 163 list([42160, 56510]) 44.3 'hibrido' 5 'automatico']\n",
            " ['serie 8' '' 350 list([103306, 198481]) 22 'electrico ' '4'\n",
            "  'automatico']\n",
            " ['BRZ' '' 163 list([42160, 56510]) 44.3 'hibrido' 5 'automatico']\n",
            " ['gtr nismo' 2017 592 list([106050, 146.0]) 19.9 'gasolina ' 4\n",
            "  'automatico']\n",
            " ['gr supra' 2023 368 list([103306, 198481]) 29.0 'electrico ' '4'\n",
            "  'automatico']\n",
            " ['stingray' 2019 495 list([139999, 159999]) 15 'gasolina' 2 'automatico']]\n"
          ]
        }
      ]
    },
    {
      "cell_type": "code",
      "source": [
        "print(cars.plazas)"
      ],
      "metadata": {
        "colab": {
          "base_uri": "https://localhost:8080/"
        },
        "id": "cEcoSqWYaTM5",
        "outputId": "5a2b8667-82d3-4b2a-ef55-52a84eb89250"
      },
      "execution_count": null,
      "outputs": [
        {
          "output_type": "stream",
          "name": "stdout",
          "text": [
            "sedán      nissan      5\n",
            "           honda       5\n",
            "           toyota      5\n",
            "pickup     toyota      2\n",
            "           ford        5\n",
            "           isuzu       5\n",
            "camioneta  honda       5\n",
            "           toyota      5\n",
            "           nissan      5\n",
            "coupé      bmw         4\n",
            "           subaru      5\n",
            "deportivo  nissan      4\n",
            "           toyota      4\n",
            "           corvette    2\n",
            "Name: plazas, dtype: object\n"
          ]
        }
      ]
    },
    {
      "cell_type": "code",
      "source": [
        "cars.values"
      ],
      "metadata": {
        "colab": {
          "base_uri": "https://localhost:8080/"
        },
        "id": "KiI2_FUfYijb",
        "outputId": "81e398e4-0a23-48ed-a948-38c71f8a80a0"
      },
      "execution_count": null,
      "outputs": [
        {
          "output_type": "execute_result",
          "data": {
            "text/plain": [
              "array([['sentra', 2022, 149, list([19950, 22700]), 39, 'gasolina', 5,\n",
              "        'automatico'],\n",
              "       ['accord', '', 192, list([26520, 38450]), 47, 'hibrido', 5,\n",
              "        'automatico'],\n",
              "       ['corolla', '', 122, list([26520, 38450]), 47, 'hibrido', 5,\n",
              "        'automatico'],\n",
              "       ['hilux', '', 122, list([45300, 48000]), 26.72, 'diesel', 2,\n",
              "        'automatico'],\n",
              "       ['ranger', '', 122, list([45300, 48000]), 24.24, 'diesel ', 5,\n",
              "        'manual'],\n",
              "       ['Dmax', '', 122, list([71000]), 14.9, 'diesel ', 5, 'manual'],\n",
              "       ['HR-V', '', 119, list([26990, 30990]), 46.1, 'gasolina ', 5,\n",
              "        'manual'],\n",
              "       ['highlander', '', 122, list([36420, 46075]), 24.1, 'gasolina ',\n",
              "        5, 'automatico'],\n",
              "       ['X-Trail', '', 163, list([42160, 56510]), 44.3, 'hibrido', 5,\n",
              "        'automatico'],\n",
              "       ['serie 8', '', 350, list([103306, 198481]), 22, 'electrico ',\n",
              "        '4', 'automatico'],\n",
              "       ['BRZ', '', 163, list([42160, 56510]), 44.3, 'hibrido', 5,\n",
              "        'automatico'],\n",
              "       ['gtr nismo', 2017, 592, list([106050, 146.0]), 19.9, 'gasolina ',\n",
              "        4, 'automatico'],\n",
              "       ['gr supra', 2023, 368, list([103306, 198481]), 29.0,\n",
              "        'electrico ', '4', 'automatico'],\n",
              "       ['stingray', 2019, 495, list([139999, 159999]), 15, 'gasolina', 2,\n",
              "        'automatico']], dtype=object)"
            ]
          },
          "metadata": {},
          "execution_count": 111
        }
      ]
    },
    {
      "cell_type": "code",
      "source": [
        "# Ingresar al Multi-Index por Etiquetas del index\n",
        "car1=cars.loc[\"sedán\"].loc[\"nissan\"]\n",
        "print(\"Fila de las descripciones del auto: \\n\",car1)\n",
        "print(\"#\"*40)\n",
        "\n",
        "# Ingresar al Multi-Index por Index Numérico\n",
        "car2=cars.iloc[0]\n",
        "print(car2)\n",
        "print(\"#\"*40)\n",
        "# Ingresar al Multi-Index por Index Numérico\n",
        "car3=cars.iloc[:,[1,2]]\n",
        "#print(car3)"
      ],
      "metadata": {
        "colab": {
          "base_uri": "https://localhost:8080/"
        },
        "id": "-kJvaYTjnke1",
        "outputId": "948e2308-e61e-4d7e-eec0-6ed2a2f01d8e"
      },
      "execution_count": null,
      "outputs": [
        {
          "output_type": "stream",
          "name": "stdout",
          "text": [
            "Fila de las descripciones del auto: \n",
            " modelo                         sentra\n",
            "year                             2022\n",
            "potencia                          149\n",
            "rango_de_precio        [19950, 22700]\n",
            "consumo_combustible                39\n",
            "combustible                  gasolina\n",
            "plazas                              5\n",
            "transmicion                automatico\n",
            "Name: nissan, dtype: object\n",
            "########################################\n",
            "modelo                         sentra\n",
            "year                             2022\n",
            "potencia                          149\n",
            "rango_de_precio        [19950, 22700]\n",
            "consumo_combustible                39\n",
            "combustible                  gasolina\n",
            "plazas                              5\n",
            "transmicion                automatico\n",
            "Name: (sedán, nissan), dtype: object\n",
            "########################################\n"
          ]
        }
      ]
    },
    {
      "cell_type": "markdown",
      "source": [
        "#Modelo para Recomendaciones"
      ],
      "metadata": {
        "id": "0qTAdcrx3TWs"
      }
    },
    {
      "cell_type": "code",
      "source": [
        "#m= caracteristicas\n",
        "# [potencia, consumo, plazas]\n",
        "\n",
        "\n",
        "m = [130,25,4]\n",
        "\n",
        "X = cars.iloc[:,[2,4,6]].values"
      ],
      "metadata": {
        "id": "FdhMRiQbK8RT"
      },
      "execution_count": null,
      "outputs": []
    },
    {
      "cell_type": "code",
      "source": [
        "nn = NearestNeighbors(n_neighbors=1).fit(X)"
      ],
      "metadata": {
        "id": "1j4rbIzKr078"
      },
      "execution_count": null,
      "outputs": []
    },
    {
      "cell_type": "code",
      "source": [
        "x =nn.kneighbors([m])\n",
        "print(x)\n",
        "auto = x[1][0][0]"
      ],
      "metadata": {
        "colab": {
          "base_uri": "https://localhost:8080/"
        },
        "id": "GjyBrJoHuGSw",
        "outputId": "e5e1fe95-3359-4f55-c37b-7352603b530b"
      },
      "execution_count": null,
      "outputs": [
        {
          "output_type": "stream",
          "name": "stdout",
          "text": [
            "(array([[8.09799975]]), array([[4]]))\n"
          ]
        }
      ]
    },
    {
      "cell_type": "code",
      "source": [
        " cars.iloc[auto]"
      ],
      "metadata": {
        "colab": {
          "base_uri": "https://localhost:8080/"
        },
        "id": "E31IakRBuNaE",
        "outputId": "f85999df-56da-4822-e8e6-802af5b5eb19"
      },
      "execution_count": null,
      "outputs": [
        {
          "output_type": "execute_result",
          "data": {
            "text/plain": [
              "modelo                         ranger\n",
              "year                                 \n",
              "potencia                          122\n",
              "rango_de_precio        [45300, 48000]\n",
              "consumo_combustible             24.24\n",
              "combustible                   diesel \n",
              "plazas                              5\n",
              "transmicion                    manual\n",
              "Name: (pickup, ford), dtype: object"
            ]
          },
          "metadata": {},
          "execution_count": 116
        }
      ]
    },
    {
      "cell_type": "markdown",
      "source": [
        "#⏫HASTA AQUÍ  ES MODELO DE RECOMENDACIÓN"
      ],
      "metadata": {
        "id": "twASNv1-GBAI"
      }
    },
    {
      "cell_type": "markdown",
      "source": [
        "# ⏬ DESDE AQUÍ ES PROCESAMIENTO DE LENGUAJE"
      ],
      "metadata": {
        "id": "V2MwyY4DGIDT"
      }
    },
    {
      "cell_type": "code",
      "source": [
        "#Datos de usuario str a float\n",
        "def convertir_float(lista:list):\n",
        "  especificaciones = []\n",
        "  print(especificaciones)\n",
        "  for info in lista:\n",
        "    info = float(info)\n",
        "    especificaciones.append(info)\n",
        "  return especificaciones\n",
        "\n",
        "x =[\"22\",\"33.5\",\"66.9\",\"123.6\"]\n",
        "convertir_float(x)"
      ],
      "metadata": {
        "id": "poboD7lPKPKC",
        "colab": {
          "base_uri": "https://localhost:8080/"
        },
        "outputId": "80f1ae4b-cf7d-46e6-d46c-8a0edde56ddd"
      },
      "execution_count": null,
      "outputs": [
        {
          "output_type": "stream",
          "name": "stdout",
          "text": [
            "[]\n"
          ]
        },
        {
          "output_type": "execute_result",
          "data": {
            "text/plain": [
              "[22.0, 33.5, 66.9, 123.6]"
            ]
          },
          "metadata": {},
          "execution_count": 82
        }
      ]
    },
    {
      "cell_type": "code",
      "source": [
        "#Datos necesarios\n",
        "especificaciones = pd.Series(cars.columns)\n",
        "print(especificaciones[0])\n",
        "\n",
        "def entrada(df_referencia):\n",
        "  datos_autos= pd.Series(df_referencia.columns)\n",
        "  datos_usuario = []\n",
        "  x=0\n",
        "  while True:\n",
        "    entrada = input(f\"Ingrese las características de {datos_autos[x]}: \\n Para salir, escriba salir.\")\n",
        "    datos_usuario.append(entrada)\n",
        "    x+=1\n",
        "    if entrada == \"salir\":\n",
        "      datos_usuario.pop()\n",
        "      print(\"gracias por los datos\")\n",
        "      break\n",
        "    elif x==(len(datos_autos)-1):\n",
        "      print(\"gracias por los datos\")\n",
        "      break\n",
        "  return datos_usuario\n",
        "\n",
        "especificaciones_user = entrada(cars)"
      ],
      "metadata": {
        "id": "G2L1b64GNSwL"
      },
      "execution_count": null,
      "outputs": []
    },
    {
      "cell_type": "markdown",
      "source": [
        "#Procesamiento de los datos recibidos NLP"
      ],
      "metadata": {
        "id": "iVCjk2S6LwAv"
      }
    },
    {
      "cell_type": "code",
      "source": [
        "print(len(especificaciones_user))\n",
        "print(len(cars.columns))"
      ],
      "metadata": {
        "id": "n95ER6MeKQHV"
      },
      "execution_count": null,
      "outputs": []
    },
    {
      "cell_type": "markdown",
      "source": [
        "## Librería en revisión\n",
        "Ejemplo de uso. Enlace: [NLP](https://ichi.pro/es/como-extraer-informacion-estructurada-de-un-texto-a-traves-de-python-spacy-8013118248478)"
      ],
      "metadata": {
        "id": "WnKI_G7HKxjK"
      }
    },
    {
      "cell_type": "code",
      "source": [
        "!python -m spacy download es_core_news_sm\n",
        "!python -m spacy download es_core_news_md"
      ],
      "metadata": {
        "colab": {
          "base_uri": "https://localhost:8080/"
        },
        "id": "dtuwDbgIoM2K",
        "outputId": "c6e4954b-e8e6-4340-f3f6-53cf909afb2a"
      },
      "execution_count": null,
      "outputs": [
        {
          "output_type": "stream",
          "name": "stdout",
          "text": [
            "/usr/local/lib/python3.8/dist-packages/torch/cuda/__init__.py:497: UserWarning: Can't initialize NVML\n",
            "  warnings.warn(\"Can't initialize NVML\")\n",
            "2023-01-19 01:25:53.973720: E tensorflow/stream_executor/cuda/cuda_driver.cc:271] failed call to cuInit: CUDA_ERROR_NO_DEVICE: no CUDA-capable device is detected\n",
            "Looking in indexes: https://pypi.org/simple, https://us-python.pkg.dev/colab-wheels/public/simple/\n",
            "Collecting es-core-news-sm==3.4.0\n",
            "  Downloading https://github.com/explosion/spacy-models/releases/download/es_core_news_sm-3.4.0/es_core_news_sm-3.4.0-py3-none-any.whl (12.9 MB)\n",
            "\u001b[2K     \u001b[90m━━━━━━━━━━━━━━━━━━━━━━━━━━━━━━━━━━━━━━━━\u001b[0m \u001b[32m12.9/12.9 MB\u001b[0m \u001b[31m9.4 MB/s\u001b[0m eta \u001b[36m0:00:00\u001b[0m\n",
            "\u001b[?25hRequirement already satisfied: spacy<3.5.0,>=3.4.0 in /usr/local/lib/python3.8/dist-packages (from es-core-news-sm==3.4.0) (3.4.4)\n",
            "Requirement already satisfied: cymem<2.1.0,>=2.0.2 in /usr/local/lib/python3.8/dist-packages (from spacy<3.5.0,>=3.4.0->es-core-news-sm==3.4.0) (2.0.7)\n",
            "Requirement already satisfied: pydantic!=1.8,!=1.8.1,<1.11.0,>=1.7.4 in /usr/local/lib/python3.8/dist-packages (from spacy<3.5.0,>=3.4.0->es-core-news-sm==3.4.0) (1.10.4)\n",
            "Requirement already satisfied: srsly<3.0.0,>=2.4.3 in /usr/local/lib/python3.8/dist-packages (from spacy<3.5.0,>=3.4.0->es-core-news-sm==3.4.0) (2.4.5)\n",
            "Requirement already satisfied: spacy-legacy<3.1.0,>=3.0.10 in /usr/local/lib/python3.8/dist-packages (from spacy<3.5.0,>=3.4.0->es-core-news-sm==3.4.0) (3.0.11)\n",
            "Requirement already satisfied: pathy>=0.3.5 in /usr/local/lib/python3.8/dist-packages (from spacy<3.5.0,>=3.4.0->es-core-news-sm==3.4.0) (0.10.1)\n",
            "Requirement already satisfied: jinja2 in /usr/local/lib/python3.8/dist-packages (from spacy<3.5.0,>=3.4.0->es-core-news-sm==3.4.0) (2.11.3)\n",
            "Requirement already satisfied: smart-open<7.0.0,>=5.2.1 in /usr/local/lib/python3.8/dist-packages (from spacy<3.5.0,>=3.4.0->es-core-news-sm==3.4.0) (6.3.0)\n",
            "Requirement already satisfied: thinc<8.2.0,>=8.1.0 in /usr/local/lib/python3.8/dist-packages (from spacy<3.5.0,>=3.4.0->es-core-news-sm==3.4.0) (8.1.6)\n",
            "Requirement already satisfied: packaging>=20.0 in /usr/local/lib/python3.8/dist-packages (from spacy<3.5.0,>=3.4.0->es-core-news-sm==3.4.0) (21.3)\n",
            "Requirement already satisfied: preshed<3.1.0,>=3.0.2 in /usr/local/lib/python3.8/dist-packages (from spacy<3.5.0,>=3.4.0->es-core-news-sm==3.4.0) (3.0.8)\n",
            "Requirement already satisfied: wasabi<1.1.0,>=0.9.1 in /usr/local/lib/python3.8/dist-packages (from spacy<3.5.0,>=3.4.0->es-core-news-sm==3.4.0) (0.10.1)\n",
            "Requirement already satisfied: typer<0.8.0,>=0.3.0 in /usr/local/lib/python3.8/dist-packages (from spacy<3.5.0,>=3.4.0->es-core-news-sm==3.4.0) (0.7.0)\n",
            "Requirement already satisfied: requests<3.0.0,>=2.13.0 in /usr/local/lib/python3.8/dist-packages (from spacy<3.5.0,>=3.4.0->es-core-news-sm==3.4.0) (2.25.1)\n",
            "Requirement already satisfied: tqdm<5.0.0,>=4.38.0 in /usr/local/lib/python3.8/dist-packages (from spacy<3.5.0,>=3.4.0->es-core-news-sm==3.4.0) (4.64.1)\n",
            "Requirement already satisfied: langcodes<4.0.0,>=3.2.0 in /usr/local/lib/python3.8/dist-packages (from spacy<3.5.0,>=3.4.0->es-core-news-sm==3.4.0) (3.3.0)\n",
            "Requirement already satisfied: numpy>=1.15.0 in /usr/local/lib/python3.8/dist-packages (from spacy<3.5.0,>=3.4.0->es-core-news-sm==3.4.0) (1.21.6)\n",
            "Requirement already satisfied: spacy-loggers<2.0.0,>=1.0.0 in /usr/local/lib/python3.8/dist-packages (from spacy<3.5.0,>=3.4.0->es-core-news-sm==3.4.0) (1.0.4)\n",
            "Requirement already satisfied: setuptools in /usr/local/lib/python3.8/dist-packages (from spacy<3.5.0,>=3.4.0->es-core-news-sm==3.4.0) (57.4.0)\n",
            "Requirement already satisfied: catalogue<2.1.0,>=2.0.6 in /usr/local/lib/python3.8/dist-packages (from spacy<3.5.0,>=3.4.0->es-core-news-sm==3.4.0) (2.0.8)\n",
            "Requirement already satisfied: murmurhash<1.1.0,>=0.28.0 in /usr/local/lib/python3.8/dist-packages (from spacy<3.5.0,>=3.4.0->es-core-news-sm==3.4.0) (1.0.9)\n",
            "Requirement already satisfied: pyparsing!=3.0.5,>=2.0.2 in /usr/local/lib/python3.8/dist-packages (from packaging>=20.0->spacy<3.5.0,>=3.4.0->es-core-news-sm==3.4.0) (3.0.9)\n",
            "Requirement already satisfied: typing-extensions>=4.2.0 in /usr/local/lib/python3.8/dist-packages (from pydantic!=1.8,!=1.8.1,<1.11.0,>=1.7.4->spacy<3.5.0,>=3.4.0->es-core-news-sm==3.4.0) (4.4.0)\n",
            "Requirement already satisfied: chardet<5,>=3.0.2 in /usr/local/lib/python3.8/dist-packages (from requests<3.0.0,>=2.13.0->spacy<3.5.0,>=3.4.0->es-core-news-sm==3.4.0) (4.0.0)\n",
            "Requirement already satisfied: idna<3,>=2.5 in /usr/local/lib/python3.8/dist-packages (from requests<3.0.0,>=2.13.0->spacy<3.5.0,>=3.4.0->es-core-news-sm==3.4.0) (2.10)\n",
            "Requirement already satisfied: certifi>=2017.4.17 in /usr/local/lib/python3.8/dist-packages (from requests<3.0.0,>=2.13.0->spacy<3.5.0,>=3.4.0->es-core-news-sm==3.4.0) (2022.12.7)\n",
            "Requirement already satisfied: urllib3<1.27,>=1.21.1 in /usr/local/lib/python3.8/dist-packages (from requests<3.0.0,>=2.13.0->spacy<3.5.0,>=3.4.0->es-core-news-sm==3.4.0) (1.24.3)\n",
            "Requirement already satisfied: blis<0.8.0,>=0.7.8 in /usr/local/lib/python3.8/dist-packages (from thinc<8.2.0,>=8.1.0->spacy<3.5.0,>=3.4.0->es-core-news-sm==3.4.0) (0.7.9)\n",
            "Requirement already satisfied: confection<1.0.0,>=0.0.1 in /usr/local/lib/python3.8/dist-packages (from thinc<8.2.0,>=8.1.0->spacy<3.5.0,>=3.4.0->es-core-news-sm==3.4.0) (0.0.3)\n",
            "Requirement already satisfied: click<9.0.0,>=7.1.1 in /usr/local/lib/python3.8/dist-packages (from typer<0.8.0,>=0.3.0->spacy<3.5.0,>=3.4.0->es-core-news-sm==3.4.0) (7.1.2)\n",
            "Requirement already satisfied: MarkupSafe>=0.23 in /usr/local/lib/python3.8/dist-packages (from jinja2->spacy<3.5.0,>=3.4.0->es-core-news-sm==3.4.0) (2.0.1)\n",
            "\u001b[38;5;2m✔ Download and installation successful\u001b[0m\n",
            "You can now load the package via spacy.load('es_core_news_sm')\n",
            "/usr/local/lib/python3.8/dist-packages/torch/cuda/__init__.py:497: UserWarning: Can't initialize NVML\n",
            "  warnings.warn(\"Can't initialize NVML\")\n",
            "2023-01-19 01:26:08.355525: E tensorflow/stream_executor/cuda/cuda_driver.cc:271] failed call to cuInit: CUDA_ERROR_NO_DEVICE: no CUDA-capable device is detected\n",
            "Looking in indexes: https://pypi.org/simple, https://us-python.pkg.dev/colab-wheels/public/simple/\n",
            "Collecting es-core-news-md==3.4.0\n",
            "  Downloading https://github.com/explosion/spacy-models/releases/download/es_core_news_md-3.4.0/es_core_news_md-3.4.0-py3-none-any.whl (42.3 MB)\n",
            "\u001b[2K     \u001b[90m━━━━━━━━━━━━━━━━━━━━━━━━━━━━━━━━━━━━━━━━\u001b[0m \u001b[32m42.3/42.3 MB\u001b[0m \u001b[31m10.7 MB/s\u001b[0m eta \u001b[36m0:00:00\u001b[0m\n",
            "\u001b[?25hRequirement already satisfied: spacy<3.5.0,>=3.4.0 in /usr/local/lib/python3.8/dist-packages (from es-core-news-md==3.4.0) (3.4.4)\n",
            "Requirement already satisfied: spacy-loggers<2.0.0,>=1.0.0 in /usr/local/lib/python3.8/dist-packages (from spacy<3.5.0,>=3.4.0->es-core-news-md==3.4.0) (1.0.4)\n",
            "Requirement already satisfied: srsly<3.0.0,>=2.4.3 in /usr/local/lib/python3.8/dist-packages (from spacy<3.5.0,>=3.4.0->es-core-news-md==3.4.0) (2.4.5)\n",
            "Requirement already satisfied: jinja2 in /usr/local/lib/python3.8/dist-packages (from spacy<3.5.0,>=3.4.0->es-core-news-md==3.4.0) (2.11.3)\n",
            "Requirement already satisfied: langcodes<4.0.0,>=3.2.0 in /usr/local/lib/python3.8/dist-packages (from spacy<3.5.0,>=3.4.0->es-core-news-md==3.4.0) (3.3.0)\n",
            "Requirement already satisfied: numpy>=1.15.0 in /usr/local/lib/python3.8/dist-packages (from spacy<3.5.0,>=3.4.0->es-core-news-md==3.4.0) (1.21.6)\n",
            "Requirement already satisfied: wasabi<1.1.0,>=0.9.1 in /usr/local/lib/python3.8/dist-packages (from spacy<3.5.0,>=3.4.0->es-core-news-md==3.4.0) (0.10.1)\n",
            "Requirement already satisfied: thinc<8.2.0,>=8.1.0 in /usr/local/lib/python3.8/dist-packages (from spacy<3.5.0,>=3.4.0->es-core-news-md==3.4.0) (8.1.6)\n",
            "Requirement already satisfied: requests<3.0.0,>=2.13.0 in /usr/local/lib/python3.8/dist-packages (from spacy<3.5.0,>=3.4.0->es-core-news-md==3.4.0) (2.25.1)\n",
            "Requirement already satisfied: setuptools in /usr/local/lib/python3.8/dist-packages (from spacy<3.5.0,>=3.4.0->es-core-news-md==3.4.0) (57.4.0)\n",
            "Requirement already satisfied: spacy-legacy<3.1.0,>=3.0.10 in /usr/local/lib/python3.8/dist-packages (from spacy<3.5.0,>=3.4.0->es-core-news-md==3.4.0) (3.0.11)\n",
            "Requirement already satisfied: preshed<3.1.0,>=3.0.2 in /usr/local/lib/python3.8/dist-packages (from spacy<3.5.0,>=3.4.0->es-core-news-md==3.4.0) (3.0.8)\n",
            "Requirement already satisfied: pathy>=0.3.5 in /usr/local/lib/python3.8/dist-packages (from spacy<3.5.0,>=3.4.0->es-core-news-md==3.4.0) (0.10.1)\n",
            "Requirement already satisfied: packaging>=20.0 in /usr/local/lib/python3.8/dist-packages (from spacy<3.5.0,>=3.4.0->es-core-news-md==3.4.0) (21.3)\n",
            "Requirement already satisfied: catalogue<2.1.0,>=2.0.6 in /usr/local/lib/python3.8/dist-packages (from spacy<3.5.0,>=3.4.0->es-core-news-md==3.4.0) (2.0.8)\n",
            "Requirement already satisfied: tqdm<5.0.0,>=4.38.0 in /usr/local/lib/python3.8/dist-packages (from spacy<3.5.0,>=3.4.0->es-core-news-md==3.4.0) (4.64.1)\n",
            "Requirement already satisfied: cymem<2.1.0,>=2.0.2 in /usr/local/lib/python3.8/dist-packages (from spacy<3.5.0,>=3.4.0->es-core-news-md==3.4.0) (2.0.7)\n",
            "Requirement already satisfied: pydantic!=1.8,!=1.8.1,<1.11.0,>=1.7.4 in /usr/local/lib/python3.8/dist-packages (from spacy<3.5.0,>=3.4.0->es-core-news-md==3.4.0) (1.10.4)\n",
            "Requirement already satisfied: smart-open<7.0.0,>=5.2.1 in /usr/local/lib/python3.8/dist-packages (from spacy<3.5.0,>=3.4.0->es-core-news-md==3.4.0) (6.3.0)\n",
            "Requirement already satisfied: typer<0.8.0,>=0.3.0 in /usr/local/lib/python3.8/dist-packages (from spacy<3.5.0,>=3.4.0->es-core-news-md==3.4.0) (0.7.0)\n",
            "Requirement already satisfied: murmurhash<1.1.0,>=0.28.0 in /usr/local/lib/python3.8/dist-packages (from spacy<3.5.0,>=3.4.0->es-core-news-md==3.4.0) (1.0.9)\n",
            "Requirement already satisfied: pyparsing!=3.0.5,>=2.0.2 in /usr/local/lib/python3.8/dist-packages (from packaging>=20.0->spacy<3.5.0,>=3.4.0->es-core-news-md==3.4.0) (3.0.9)\n",
            "Requirement already satisfied: typing-extensions>=4.2.0 in /usr/local/lib/python3.8/dist-packages (from pydantic!=1.8,!=1.8.1,<1.11.0,>=1.7.4->spacy<3.5.0,>=3.4.0->es-core-news-md==3.4.0) (4.4.0)\n",
            "Requirement already satisfied: urllib3<1.27,>=1.21.1 in /usr/local/lib/python3.8/dist-packages (from requests<3.0.0,>=2.13.0->spacy<3.5.0,>=3.4.0->es-core-news-md==3.4.0) (1.24.3)\n",
            "Requirement already satisfied: certifi>=2017.4.17 in /usr/local/lib/python3.8/dist-packages (from requests<3.0.0,>=2.13.0->spacy<3.5.0,>=3.4.0->es-core-news-md==3.4.0) (2022.12.7)\n",
            "Requirement already satisfied: idna<3,>=2.5 in /usr/local/lib/python3.8/dist-packages (from requests<3.0.0,>=2.13.0->spacy<3.5.0,>=3.4.0->es-core-news-md==3.4.0) (2.10)\n",
            "Requirement already satisfied: chardet<5,>=3.0.2 in /usr/local/lib/python3.8/dist-packages (from requests<3.0.0,>=2.13.0->spacy<3.5.0,>=3.4.0->es-core-news-md==3.4.0) (4.0.0)\n",
            "Requirement already satisfied: blis<0.8.0,>=0.7.8 in /usr/local/lib/python3.8/dist-packages (from thinc<8.2.0,>=8.1.0->spacy<3.5.0,>=3.4.0->es-core-news-md==3.4.0) (0.7.9)\n",
            "Requirement already satisfied: confection<1.0.0,>=0.0.1 in /usr/local/lib/python3.8/dist-packages (from thinc<8.2.0,>=8.1.0->spacy<3.5.0,>=3.4.0->es-core-news-md==3.4.0) (0.0.3)\n",
            "Requirement already satisfied: click<9.0.0,>=7.1.1 in /usr/local/lib/python3.8/dist-packages (from typer<0.8.0,>=0.3.0->spacy<3.5.0,>=3.4.0->es-core-news-md==3.4.0) (7.1.2)\n",
            "Requirement already satisfied: MarkupSafe>=0.23 in /usr/local/lib/python3.8/dist-packages (from jinja2->spacy<3.5.0,>=3.4.0->es-core-news-md==3.4.0) (2.0.1)\n",
            "\u001b[38;5;2m✔ Download and installation successful\u001b[0m\n",
            "You can now load the package via spacy.load('es_core_news_md')\n"
          ]
        }
      ]
    },
    {
      "cell_type": "code",
      "source": [
        "with open('/content/drive/MyDrive/SIC 2022/Pruebas NLP/prueba_NLP_Raw.txt', 'r') as f:\n",
        "    texto = [line for line in f.readlines()]\n",
        "texto"
      ],
      "metadata": {
        "colab": {
          "base_uri": "https://localhost:8080/"
        },
        "id": "HkU3e_3Ub0rm",
        "outputId": "1c837f3b-2294-42cb-fdd1-7f70a41cc1a5"
      },
      "execution_count": null,
      "outputs": [
        {
          "output_type": "execute_result",
          "data": {
            "text/plain": [
              "['Los carros pueden ser de tipo sedán\\n',\n",
              " 'que sea del año 2020 \\n',\n",
              " 'con unos 230 caballos de fuerza \\n',\n",
              " 'que se entre 20 000 a 40 000 dólares \\n',\n",
              " 'que rinda 40 millas por galón\\n',\n",
              " 'que sea de gasolina \\n',\n",
              " 'con 5 asientos si es posible']"
            ]
          },
          "metadata": {},
          "execution_count": 118
        }
      ]
    },
    {
      "cell_type": "code",
      "source": [
        "def get_df_raw(raw_text):\n",
        "  import pandas as pd\n",
        "  df = pd.DataFrame(raw_text,columns=['text'], index=['tipo','año','potencia','rango_precio','consumo','combustible','plazas'])\n",
        "  return df\n",
        "\n",
        "df = get_df_raw(texto)\n",
        "df"
      ],
      "metadata": {
        "colab": {
          "base_uri": "https://localhost:8080/",
          "height": 269
        },
        "id": "bD5b2bHUcj30",
        "outputId": "35b3a60f-28ee-4ce7-ce34-85438e540170"
      },
      "execution_count": null,
      "outputs": [
        {
          "output_type": "execute_result",
          "data": {
            "text/plain": [
              "                                                 text\n",
              "tipo            Los carros pueden ser de tipo sedán\\n\n",
              "año                           que sea del año 2020 \\n\n",
              "potencia           con unos 230 caballos de fuerza \\n\n",
              "rango_precio  que se entre 20 000 a 40 000 dólares \\n\n",
              "consumo               que rinda 40 millas por galón\\n\n",
              "combustible                    que sea de gasolina \\n\n",
              "plazas                   con 5 asientos si es posible"
            ],
            "text/html": [
              "\n",
              "  <div id=\"df-005bc18b-c0d3-4380-acf4-8c706d3d8f5a\">\n",
              "    <div class=\"colab-df-container\">\n",
              "      <div>\n",
              "<style scoped>\n",
              "    .dataframe tbody tr th:only-of-type {\n",
              "        vertical-align: middle;\n",
              "    }\n",
              "\n",
              "    .dataframe tbody tr th {\n",
              "        vertical-align: top;\n",
              "    }\n",
              "\n",
              "    .dataframe thead th {\n",
              "        text-align: right;\n",
              "    }\n",
              "</style>\n",
              "<table border=\"1\" class=\"dataframe\">\n",
              "  <thead>\n",
              "    <tr style=\"text-align: right;\">\n",
              "      <th></th>\n",
              "      <th>text</th>\n",
              "    </tr>\n",
              "  </thead>\n",
              "  <tbody>\n",
              "    <tr>\n",
              "      <th>tipo</th>\n",
              "      <td>Los carros pueden ser de tipo sedán\\n</td>\n",
              "    </tr>\n",
              "    <tr>\n",
              "      <th>año</th>\n",
              "      <td>que sea del año 2020 \\n</td>\n",
              "    </tr>\n",
              "    <tr>\n",
              "      <th>potencia</th>\n",
              "      <td>con unos 230 caballos de fuerza \\n</td>\n",
              "    </tr>\n",
              "    <tr>\n",
              "      <th>rango_precio</th>\n",
              "      <td>que se entre 20 000 a 40 000 dólares \\n</td>\n",
              "    </tr>\n",
              "    <tr>\n",
              "      <th>consumo</th>\n",
              "      <td>que rinda 40 millas por galón\\n</td>\n",
              "    </tr>\n",
              "    <tr>\n",
              "      <th>combustible</th>\n",
              "      <td>que sea de gasolina \\n</td>\n",
              "    </tr>\n",
              "    <tr>\n",
              "      <th>plazas</th>\n",
              "      <td>con 5 asientos si es posible</td>\n",
              "    </tr>\n",
              "  </tbody>\n",
              "</table>\n",
              "</div>\n",
              "      <button class=\"colab-df-convert\" onclick=\"convertToInteractive('df-005bc18b-c0d3-4380-acf4-8c706d3d8f5a')\"\n",
              "              title=\"Convert this dataframe to an interactive table.\"\n",
              "              style=\"display:none;\">\n",
              "        \n",
              "  <svg xmlns=\"http://www.w3.org/2000/svg\" height=\"24px\"viewBox=\"0 0 24 24\"\n",
              "       width=\"24px\">\n",
              "    <path d=\"M0 0h24v24H0V0z\" fill=\"none\"/>\n",
              "    <path d=\"M18.56 5.44l.94 2.06.94-2.06 2.06-.94-2.06-.94-.94-2.06-.94 2.06-2.06.94zm-11 1L8.5 8.5l.94-2.06 2.06-.94-2.06-.94L8.5 2.5l-.94 2.06-2.06.94zm10 10l.94 2.06.94-2.06 2.06-.94-2.06-.94-.94-2.06-.94 2.06-2.06.94z\"/><path d=\"M17.41 7.96l-1.37-1.37c-.4-.4-.92-.59-1.43-.59-.52 0-1.04.2-1.43.59L10.3 9.45l-7.72 7.72c-.78.78-.78 2.05 0 2.83L4 21.41c.39.39.9.59 1.41.59.51 0 1.02-.2 1.41-.59l7.78-7.78 2.81-2.81c.8-.78.8-2.07 0-2.86zM5.41 20L4 18.59l7.72-7.72 1.47 1.35L5.41 20z\"/>\n",
              "  </svg>\n",
              "      </button>\n",
              "      \n",
              "  <style>\n",
              "    .colab-df-container {\n",
              "      display:flex;\n",
              "      flex-wrap:wrap;\n",
              "      gap: 12px;\n",
              "    }\n",
              "\n",
              "    .colab-df-convert {\n",
              "      background-color: #E8F0FE;\n",
              "      border: none;\n",
              "      border-radius: 50%;\n",
              "      cursor: pointer;\n",
              "      display: none;\n",
              "      fill: #1967D2;\n",
              "      height: 32px;\n",
              "      padding: 0 0 0 0;\n",
              "      width: 32px;\n",
              "    }\n",
              "\n",
              "    .colab-df-convert:hover {\n",
              "      background-color: #E2EBFA;\n",
              "      box-shadow: 0px 1px 2px rgba(60, 64, 67, 0.3), 0px 1px 3px 1px rgba(60, 64, 67, 0.15);\n",
              "      fill: #174EA6;\n",
              "    }\n",
              "\n",
              "    [theme=dark] .colab-df-convert {\n",
              "      background-color: #3B4455;\n",
              "      fill: #D2E3FC;\n",
              "    }\n",
              "\n",
              "    [theme=dark] .colab-df-convert:hover {\n",
              "      background-color: #434B5C;\n",
              "      box-shadow: 0px 1px 3px 1px rgba(0, 0, 0, 0.15);\n",
              "      filter: drop-shadow(0px 1px 2px rgba(0, 0, 0, 0.3));\n",
              "      fill: #FFFFFF;\n",
              "    }\n",
              "  </style>\n",
              "\n",
              "      <script>\n",
              "        const buttonEl =\n",
              "          document.querySelector('#df-005bc18b-c0d3-4380-acf4-8c706d3d8f5a button.colab-df-convert');\n",
              "        buttonEl.style.display =\n",
              "          google.colab.kernel.accessAllowed ? 'block' : 'none';\n",
              "\n",
              "        async function convertToInteractive(key) {\n",
              "          const element = document.querySelector('#df-005bc18b-c0d3-4380-acf4-8c706d3d8f5a');\n",
              "          const dataTable =\n",
              "            await google.colab.kernel.invokeFunction('convertToInteractive',\n",
              "                                                     [key], {});\n",
              "          if (!dataTable) return;\n",
              "\n",
              "          const docLinkHtml = 'Like what you see? Visit the ' +\n",
              "            '<a target=\"_blank\" href=https://colab.research.google.com/notebooks/data_table.ipynb>data table notebook</a>'\n",
              "            + ' to learn more about interactive tables.';\n",
              "          element.innerHTML = '';\n",
              "          dataTable['output_type'] = 'display_data';\n",
              "          await google.colab.output.renderOutput(dataTable, element);\n",
              "          const docLink = document.createElement('div');\n",
              "          docLink.innerHTML = docLinkHtml;\n",
              "          element.appendChild(docLink);\n",
              "        }\n",
              "      </script>\n",
              "    </div>\n",
              "  </div>\n",
              "  "
            ]
          },
          "metadata": {},
          "execution_count": 92
        }
      ]
    },
    {
      "cell_type": "code",
      "source": [
        "#Librería en revisión\n",
        "def get_line_token(df,line):  \n",
        "  import spacy\n",
        "  import es_core_news_sm\n",
        "  text = df['text'][line]\n",
        "  nlp = es_core_news_sm.load()\n",
        "  doc = nlp(text)\n",
        "  #print(type(doc))\n",
        "  return doc\n",
        "doc = get_line_token(df,0)\n",
        "doc"
      ],
      "metadata": {
        "colab": {
          "base_uri": "https://localhost:8080/"
        },
        "id": "NKF-MxZKc1et",
        "outputId": "4b4c1696-dadb-4aa3-b7e1-df43a318c049"
      },
      "execution_count": null,
      "outputs": [
        {
          "output_type": "execute_result",
          "data": {
            "text/plain": [
              "Los carros pueden ser de tipo sedán"
            ]
          },
          "metadata": {},
          "execution_count": 93
        }
      ]
    },
    {
      "cell_type": "code",
      "source": [
        "#UPOS: https://stanfordnlp.github.io/stanza/pos.html\n",
        "def get_df_features(doc):  \n",
        "  features = []\n",
        "  for token in doc:\n",
        "      features.append({'token' : token.text, 'pos' : token.pos_})\n",
        "  #print(type(features))\n",
        "  features_df = pd.DataFrame(features)\n",
        "  #print(features_df)\n",
        "  return features_df\n",
        "df_features = get_df_features(doc)\n",
        "df_features"
      ],
      "metadata": {
        "colab": {
          "base_uri": "https://localhost:8080/",
          "height": 300
        },
        "id": "4OHYrfrPfISz",
        "outputId": "dfaff503-0435-487d-8370-9f305958f77e"
      },
      "execution_count": null,
      "outputs": [
        {
          "output_type": "execute_result",
          "data": {
            "text/plain": [
              "    token    pos\n",
              "0     Los    DET\n",
              "1  carros   NOUN\n",
              "2  pueden    AUX\n",
              "3     ser    AUX\n",
              "4      de    ADP\n",
              "5    tipo   NOUN\n",
              "6   sedán  PROPN\n",
              "7      \\n  SPACE"
            ],
            "text/html": [
              "\n",
              "  <div id=\"df-b32bbaf2-7311-43ef-b2d2-558c9ba356ac\">\n",
              "    <div class=\"colab-df-container\">\n",
              "      <div>\n",
              "<style scoped>\n",
              "    .dataframe tbody tr th:only-of-type {\n",
              "        vertical-align: middle;\n",
              "    }\n",
              "\n",
              "    .dataframe tbody tr th {\n",
              "        vertical-align: top;\n",
              "    }\n",
              "\n",
              "    .dataframe thead th {\n",
              "        text-align: right;\n",
              "    }\n",
              "</style>\n",
              "<table border=\"1\" class=\"dataframe\">\n",
              "  <thead>\n",
              "    <tr style=\"text-align: right;\">\n",
              "      <th></th>\n",
              "      <th>token</th>\n",
              "      <th>pos</th>\n",
              "    </tr>\n",
              "  </thead>\n",
              "  <tbody>\n",
              "    <tr>\n",
              "      <th>0</th>\n",
              "      <td>Los</td>\n",
              "      <td>DET</td>\n",
              "    </tr>\n",
              "    <tr>\n",
              "      <th>1</th>\n",
              "      <td>carros</td>\n",
              "      <td>NOUN</td>\n",
              "    </tr>\n",
              "    <tr>\n",
              "      <th>2</th>\n",
              "      <td>pueden</td>\n",
              "      <td>AUX</td>\n",
              "    </tr>\n",
              "    <tr>\n",
              "      <th>3</th>\n",
              "      <td>ser</td>\n",
              "      <td>AUX</td>\n",
              "    </tr>\n",
              "    <tr>\n",
              "      <th>4</th>\n",
              "      <td>de</td>\n",
              "      <td>ADP</td>\n",
              "    </tr>\n",
              "    <tr>\n",
              "      <th>5</th>\n",
              "      <td>tipo</td>\n",
              "      <td>NOUN</td>\n",
              "    </tr>\n",
              "    <tr>\n",
              "      <th>6</th>\n",
              "      <td>sedán</td>\n",
              "      <td>PROPN</td>\n",
              "    </tr>\n",
              "    <tr>\n",
              "      <th>7</th>\n",
              "      <td>\\n</td>\n",
              "      <td>SPACE</td>\n",
              "    </tr>\n",
              "  </tbody>\n",
              "</table>\n",
              "</div>\n",
              "      <button class=\"colab-df-convert\" onclick=\"convertToInteractive('df-b32bbaf2-7311-43ef-b2d2-558c9ba356ac')\"\n",
              "              title=\"Convert this dataframe to an interactive table.\"\n",
              "              style=\"display:none;\">\n",
              "        \n",
              "  <svg xmlns=\"http://www.w3.org/2000/svg\" height=\"24px\"viewBox=\"0 0 24 24\"\n",
              "       width=\"24px\">\n",
              "    <path d=\"M0 0h24v24H0V0z\" fill=\"none\"/>\n",
              "    <path d=\"M18.56 5.44l.94 2.06.94-2.06 2.06-.94-2.06-.94-.94-2.06-.94 2.06-2.06.94zm-11 1L8.5 8.5l.94-2.06 2.06-.94-2.06-.94L8.5 2.5l-.94 2.06-2.06.94zm10 10l.94 2.06.94-2.06 2.06-.94-2.06-.94-.94-2.06-.94 2.06-2.06.94z\"/><path d=\"M17.41 7.96l-1.37-1.37c-.4-.4-.92-.59-1.43-.59-.52 0-1.04.2-1.43.59L10.3 9.45l-7.72 7.72c-.78.78-.78 2.05 0 2.83L4 21.41c.39.39.9.59 1.41.59.51 0 1.02-.2 1.41-.59l7.78-7.78 2.81-2.81c.8-.78.8-2.07 0-2.86zM5.41 20L4 18.59l7.72-7.72 1.47 1.35L5.41 20z\"/>\n",
              "  </svg>\n",
              "      </button>\n",
              "      \n",
              "  <style>\n",
              "    .colab-df-container {\n",
              "      display:flex;\n",
              "      flex-wrap:wrap;\n",
              "      gap: 12px;\n",
              "    }\n",
              "\n",
              "    .colab-df-convert {\n",
              "      background-color: #E8F0FE;\n",
              "      border: none;\n",
              "      border-radius: 50%;\n",
              "      cursor: pointer;\n",
              "      display: none;\n",
              "      fill: #1967D2;\n",
              "      height: 32px;\n",
              "      padding: 0 0 0 0;\n",
              "      width: 32px;\n",
              "    }\n",
              "\n",
              "    .colab-df-convert:hover {\n",
              "      background-color: #E2EBFA;\n",
              "      box-shadow: 0px 1px 2px rgba(60, 64, 67, 0.3), 0px 1px 3px 1px rgba(60, 64, 67, 0.15);\n",
              "      fill: #174EA6;\n",
              "    }\n",
              "\n",
              "    [theme=dark] .colab-df-convert {\n",
              "      background-color: #3B4455;\n",
              "      fill: #D2E3FC;\n",
              "    }\n",
              "\n",
              "    [theme=dark] .colab-df-convert:hover {\n",
              "      background-color: #434B5C;\n",
              "      box-shadow: 0px 1px 3px 1px rgba(0, 0, 0, 0.15);\n",
              "      filter: drop-shadow(0px 1px 2px rgba(0, 0, 0, 0.3));\n",
              "      fill: #FFFFFF;\n",
              "    }\n",
              "  </style>\n",
              "\n",
              "      <script>\n",
              "        const buttonEl =\n",
              "          document.querySelector('#df-b32bbaf2-7311-43ef-b2d2-558c9ba356ac button.colab-df-convert');\n",
              "        buttonEl.style.display =\n",
              "          google.colab.kernel.accessAllowed ? 'block' : 'none';\n",
              "\n",
              "        async function convertToInteractive(key) {\n",
              "          const element = document.querySelector('#df-b32bbaf2-7311-43ef-b2d2-558c9ba356ac');\n",
              "          const dataTable =\n",
              "            await google.colab.kernel.invokeFunction('convertToInteractive',\n",
              "                                                     [key], {});\n",
              "          if (!dataTable) return;\n",
              "\n",
              "          const docLinkHtml = 'Like what you see? Visit the ' +\n",
              "            '<a target=\"_blank\" href=https://colab.research.google.com/notebooks/data_table.ipynb>data table notebook</a>'\n",
              "            + ' to learn more about interactive tables.';\n",
              "          element.innerHTML = '';\n",
              "          dataTable['output_type'] = 'display_data';\n",
              "          await google.colab.output.renderOutput(dataTable, element);\n",
              "          const docLink = document.createElement('div');\n",
              "          docLink.innerHTML = docLinkHtml;\n",
              "          element.appendChild(docLink);\n",
              "        }\n",
              "      </script>\n",
              "    </div>\n",
              "  </div>\n",
              "  "
            ]
          },
          "metadata": {},
          "execution_count": 94
        }
      ]
    },
    {
      "cell_type": "markdown",
      "source": [
        "Alphabetical listing\n",
        "\n",
        "- ADJ: adjective\n",
        "- ADP: adposition\n",
        "- ADV: adverb\n",
        "- AUX: auxiliary\n",
        "- CCONJ: coordinating conjunction\n",
        "- DET: determiner\n",
        "- INTJ: interjection\n",
        "- NOUN: noun\n",
        "- NUM: numeral\n",
        "- PART: particle\n",
        "- PRON: pronoun\n",
        "- PROPN: proper noun\n",
        "- PUNCT: punctuation\n",
        "- SCONJ: subordinating conjunction\n",
        "- SYM: symbol\n",
        "- VERB: verb\n",
        "- X: other"
      ],
      "metadata": {
        "id": "a3n-r9-bhsk-"
      }
    },
    {
      "cell_type": "code",
      "source": [
        "def get_type():\n",
        "def get_year():\n",
        "def get_\n",
        "row = features_df.loc[features_df['pos'] == 'NUM']\n",
        "print(row)\n",
        "'''print(\"\\n\")\n",
        "id = row.index\n",
        "print(id)\n",
        "print(\"\\n\")\n",
        "final_features = features_df.drop(index=id,axis=1,inplace=False)\n",
        "print(type(final_features))''' "
      ],
      "metadata": {
        "id": "HyuZg-yDt-yI"
      },
      "execution_count": null,
      "outputs": []
    },
    {
      "cell_type": "markdown",
      "source": [
        "##Matcher"
      ],
      "metadata": {
        "id": "i9Dbq2fMBAI4"
      }
    },
    {
      "cell_type": "code",
      "source": [
        "types = []\n",
        "car_type = set(cars.index[n][0] for n in range(len(cars.index)))\n",
        "for tipo in car_type:\n",
        "  types.append(tipo)\n",
        "print(types)"
      ],
      "metadata": {
        "colab": {
          "base_uri": "https://localhost:8080/"
        },
        "id": "9Ph7eAL1BLkG",
        "outputId": "b8a42eae-f2f3-415c-cf13-1712fe9ec0c8"
      },
      "execution_count": null,
      "outputs": [
        {
          "output_type": "stream",
          "name": "stdout",
          "text": [
            "['pickup', 'sedán', 'deportivo', 'coupé', 'camioneta']\n"
          ]
        }
      ]
    },
    {
      "cell_type": "code",
      "source": [
        "first_tokens = ['auto','tipo','automóvil','carro']\n",
        "last_tokens = types"
      ],
      "metadata": {
        "id": "F1xBhZB3fb7y"
      },
      "execution_count": null,
      "outputs": []
    },
    {
      "cell_type": "code",
      "source": [
        "pattern_type = [[{'LEMMA' : {'IN' : first_tokens}},{'LOWER': {'IN' : last_tokens}} ]] #\n"
      ],
      "metadata": {
        "id": "j5DFouDjfl4f"
      },
      "execution_count": null,
      "outputs": []
    },
    {
      "cell_type": "code",
      "source": [
        "def get_tipo(x):\n",
        "  import spacy\n",
        "  from spacy.matcher import Matcher\n",
        "  import es_core_news_sm\n",
        "  \n",
        "  nlp = spacy.load('es_core_news_sm')\n",
        "  doc = nlp(x)\n",
        "  print(doc)\n",
        "\n",
        "  matcher = Matcher(nlp.vocab) \n",
        "  matcher.add(\"matching_type\", pattern_type)\n",
        "  matches = matcher(doc)\n",
        "  print(matches)\n",
        "\n",
        "  for match_id, start, end in matches:\n",
        "    # Obtén el span resultante\n",
        "    matched_span = doc[start:end]\n",
        "   \n",
        "    tipo_auto = matched_span.text\n",
        "    #print(matched_span.text)\n",
        "    return  tipo_auto , matched_span.lemma_\n",
        "get_tipo(doc)"
      ],
      "metadata": {
        "colab": {
          "base_uri": "https://localhost:8080/"
        },
        "id": "eutJkPn7fos7",
        "outputId": "f2062c14-8e77-47e5-b55a-0dc345357b5d"
      },
      "execution_count": null,
      "outputs": [
        {
          "output_type": "stream",
          "name": "stdout",
          "text": [
            "Los carros pueden ser de tipo sedán\n",
            "\n",
            "[(15651104031482252912, 5, 7)]\n"
          ]
        },
        {
          "output_type": "execute_result",
          "data": {
            "text/plain": [
              "('tipo sedán', 'tipo sedán')"
            ]
          },
          "metadata": {},
          "execution_count": 99
        }
      ]
    },
    {
      "cell_type": "code",
      "source": [
        "texto1 = \"deportivo,coupe,pickup,sedán, camionetas\"\n",
        "texto2 = \"automóvil\"\n",
        "import spacy\n",
        "\n",
        "nlp = spacy.load(\"es_core_news_md\")\n",
        "\n",
        "doc1 = nlp(texto1)\n",
        "doc2 = nlp(texto2)\n",
        "\n",
        "# Obtén la similitud entre el doc1 y el doc2\n",
        "similarity = doc1.similarity(doc2)\n",
        "print(similarity)"
      ],
      "metadata": {
        "colab": {
          "base_uri": "https://localhost:8080/"
        },
        "id": "v4hGMJkGiGip",
        "outputId": "b4962f5c-e3bb-4db6-96d6-b5ff4e0d9781"
      },
      "execution_count": null,
      "outputs": [
        {
          "output_type": "stream",
          "name": "stdout",
          "text": [
            "0.4769257767258282\n"
          ]
        }
      ]
    }
  ]
}